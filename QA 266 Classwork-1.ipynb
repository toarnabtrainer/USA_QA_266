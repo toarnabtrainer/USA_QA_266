{
 "cells": [
  {
   "cell_type": "markdown",
   "id": "e8decc2a-0d13-454e-a260-784bc43f15ab",
   "metadata": {},
   "source": [
    "# **Python Scripting**"
   ]
  },
  {
   "cell_type": "markdown",
   "id": "23332b4e-922d-4e73-87c9-501e2cd86c77",
   "metadata": {},
   "source": [
    "## **Day-1**"
   ]
  },
  {
   "cell_type": "markdown",
   "id": "bc148703-c2d4-47c6-9d85-6069749a170f",
   "metadata": {},
   "source": [
    "## **Python Inputs and Outputs**"
   ]
  },
  {
   "cell_type": "code",
   "execution_count": 8,
   "id": "9d8995cd-3be2-4681-9de8-55efb17f1421",
   "metadata": {},
   "outputs": [],
   "source": [
    "# this is a comment line"
   ]
  },
  {
   "cell_type": "code",
   "execution_count": 2,
   "id": "45612f17-ede1-4a4c-b6eb-0d8a24944423",
   "metadata": {},
   "outputs": [
    {
     "name": "stdin",
     "output_type": "stream",
     "text": [
      "Please enter the first number:  222\n",
      "Please enter the second number:  333\n"
     ]
    },
    {
     "name": "stdout",
     "output_type": "stream",
     "text": [
      "222 <class 'str'> 2105252652144\n",
      "333 <class 'str'> 2105252651696\n",
      "So 222 + 333 = 222333\n"
     ]
    }
   ],
   "source": [
    "num1 = input(\"Please enter the first number: \")\n",
    "num2 = input(\"Please enter the second number: \")\n",
    "print (num1, type(num1), id(num1))\n",
    "print (num2, type(num2), id(num2))\n",
    "total = num1 + num2    # here + is acting as a string concatenation operator\n",
    "print (\"So\", num1, \"+\", num2, \"=\", total)"
   ]
  },
  {
   "cell_type": "code",
   "execution_count": 9,
   "id": "0d7fe277-2376-4c63-9d3d-cbdcf4ace12a",
   "metadata": {},
   "outputs": [
    {
     "name": "stdin",
     "output_type": "stream",
     "text": [
      "Please enter the first number:  100\n",
      "Please enter the second number:  400\n"
     ]
    },
    {
     "name": "stdout",
     "output_type": "stream",
     "text": [
      "100 <class 'int'> 2105172168016\n",
      "400 <class 'int'> 2105251884048\n",
      "So 100 + 400 = 500\n"
     ]
    }
   ],
   "source": [
    "num1 = int(input(\"Please enter the first number: \"))\n",
    "num2 = int(input(\"Please enter the second number: \"))\n",
    "print (num1, type(num1), id(num1))\n",
    "print (num2, type(num2), id(num2))\n",
    "total = num1 + num2    # here + is acting as an algebraic addition operator\n",
    "print (\"So\", num1, \"+\", num2, \"=\", total)"
   ]
  },
  {
   "cell_type": "code",
   "execution_count": 18,
   "id": "6e265806-c543-490a-95e7-2825531c8533",
   "metadata": {},
   "outputs": [
    {
     "name": "stdout",
     "output_type": "stream",
     "text": [
      "So 100 + 400 = 500\n",
      "So 100 + 400 = 500\n",
      "So 100 + 400 = 500\n",
      "So 100 + 400 = 500\n",
      "So 100 + 400 = 500\n",
      "So 100 + 400 = 500\n",
      "So 100 + 400 = 500\n",
      "So 100 + 400 = 500\n",
      "So 100 + 400 = 500\n",
      "So 100.000000 + 400 = 500\n",
      "So   100.00 + 400 = 500\n"
     ]
    }
   ],
   "source": [
    "print(\"So\", num1, \"+\", num2, \"=\", total)\n",
    "print(\"So \" + str(num1) + \" + \" + str(num2) + \" = \" + str(total))\n",
    "print(\"So {} + {} = {}\".format(num1, num2, total))    # {} denotes variable place holder\n",
    "print(\"So {0} + {1} = {2}\".format(num1, num2, total))    # {} denotes indexed variable place holder\n",
    "print(\"So {2} + {1} = {0}\".format(total, num2, num1))    # {} denotes indexed variable place holder\n",
    "print(\"So {fn} + {sn} = {re}\".format(fn = num1, sn = num2, re = total))    # {} denotes labelled variable place holder\n",
    "print(\"So {fn} + {sn} = {re}\".format(fn = num1, re = total, sn = num2))    # {} denotes labelled variable place holder\n",
    "print(f\"So {num1} + {num2} = {total}\")    # f denotes smart formatting\n",
    "print(\"So %d + %d = %d\"%(num1, num2, total))    # %d denotes decimal or integer\n",
    "print(\"So %f + %d = %d\"%(num1, num2, total))    # %d denotes decimal or integer\n",
    "print(\"So %8.2f + %d = %d\"%(num1, num2, total))    # %d denotes decimal or integer"
   ]
  },
  {
   "cell_type": "markdown",
   "id": "12655993-2902-4690-bd9e-2fa14237f49d",
   "metadata": {},
   "source": [
    "## **Dynamic Variable Types**"
   ]
  },
  {
   "cell_type": "code",
   "execution_count": 20,
   "id": "1aa62702-16d3-4eb2-9575-2d18f4b6ef5a",
   "metadata": {},
   "outputs": [
    {
     "name": "stdout",
     "output_type": "stream",
     "text": [
      "100 <class 'int'> 2105172168016\n",
      "100.5 <class 'float'> 2105270647344\n",
      "Punch <class 'str'> 2105280945776\n",
      "P <class 'str'> 2105173742512\n",
      "Punch <class 'str'> 2105280945776\n",
      "P <class 'str'> 2105173742512\n",
      "True <class 'bool'> 140716336498896\n",
      "False <class 'bool'> 140716336498928\n"
     ]
    }
   ],
   "source": [
    "var1 = 100; print (var1, type(var1), id(var1))\n",
    "var1 = 100.5; print (var1, type(var1), id(var1))\n",
    "var1 = \"Punch\"; print (var1, type(var1), id(var1))\n",
    "var1 = \"P\"; print (var1, type(var1), id(var1))\n",
    "var1 = 'Punch'; print (var1, type(var1), id(var1))\n",
    "var1 = 'P'; print (var1, type(var1), id(var1))\n",
    "var1 = True; print (var1, type(var1), id(var1))\n",
    "var1 = False; print (var1, type(var1), id(var1))"
   ]
  },
  {
   "cell_type": "markdown",
   "id": "d629009f-44ec-4c90-bb32-cc4d6ba3e2c5",
   "metadata": {},
   "source": [
    "## **Python Operators**"
   ]
  },
  {
   "cell_type": "code",
   "execution_count": null,
   "id": "041e2176-5710-404f-a4ed-492362fa8b2d",
   "metadata": {},
   "outputs": [],
   "source": [
    "# Arithmetic Operators: + - * / // ** %\n",
    "# Conditional Operators: > >= < <= != ==\n",
    "# Logical Operators: and or not\n",
    "# Assignment Operator: = \n",
    "# Special Assignment Operators: += -= *= /= //= **= %="
   ]
  },
  {
   "cell_type": "code",
   "execution_count": 22,
   "id": "0a0ef039-0a69-45d6-bdaf-dcca123fb7ea",
   "metadata": {},
   "outputs": [
    {
     "name": "stdout",
     "output_type": "stream",
     "text": [
      "140\n",
      "60\n",
      "4000\n",
      "2.5\n",
      "2\n",
      "20\n",
      "100000000\n"
     ]
    }
   ],
   "source": [
    "# Arithmetic Operators: + - * / // ** %\n",
    "print (100 + 40)    # addition operator\n",
    "print (100 - 40)    # subtraction operator\n",
    "print (100 * 40)    # multiplication operator\n",
    "print (100 / 40)    # float division operator\n",
    "print (100 // 40)   # integer division operator\n",
    "print (100 % 40)    # modulus operator\n",
    "print (100 ** 4)    # exponentiation operator"
   ]
  },
  {
   "cell_type": "code",
   "execution_count": 23,
   "id": "5cbcc837-d2f8-4941-8c69-30f5eb1b6395",
   "metadata": {},
   "outputs": [
    {
     "name": "stdout",
     "output_type": "stream",
     "text": [
      "True True True True True True False\n"
     ]
    }
   ],
   "source": [
    "# Conditional Operators: > >= < <= != ==\n",
    "print (100 > 80, 100 >= 80, 80 < 100, 80 <= 100, 100 != 80, 100 == 100, 100 == 80)"
   ]
  },
  {
   "cell_type": "code",
   "execution_count": 26,
   "id": "534f864d-07f9-428a-940c-84d4e5ccdf91",
   "metadata": {},
   "outputs": [
    {
     "name": "stdout",
     "output_type": "stream",
     "text": [
      "False False False True\n",
      "False True True True\n",
      "False True\n"
     ]
    }
   ],
   "source": [
    "# Logical Operators: and or not\n",
    "print (False and False, False and True, True and False, True and True)\n",
    "print (False or False, False or True, True or False, True or True)\n",
    "print (not True, not False)"
   ]
  },
  {
   "cell_type": "code",
   "execution_count": 28,
   "id": "7dafdfeb-c782-4224-bac2-a96527d02d7f",
   "metadata": {},
   "outputs": [
    {
     "name": "stdout",
     "output_type": "stream",
     "text": [
      "500 <class 'int'> 2105279885424\n",
      "600 <class 'int'> 2105279885456\n",
      "500 <class 'int'> 2105279886096\n"
     ]
    }
   ],
   "source": [
    "# Assignment Operator: = \n",
    "# Special Assignment Operators: += -= *= /= //= **= %=\n",
    "var1 = 500; print (var1, type(var1), id(var1))\n",
    "var1 += 100; print (var1, type(var1), id(var1))    # var1 += 100  means  var = var1 + 100\n",
    "var1 -= 100; print (var1, type(var1), id(var1))    # var1 -= 100  means  var = var1 - 100"
   ]
  },
  {
   "cell_type": "code",
   "execution_count": 29,
   "id": "19fca4cf-bcce-42fa-87e0-cfe0bffd1971",
   "metadata": {},
   "outputs": [
    {
     "name": "stdout",
     "output_type": "stream",
     "text": [
      "Even\n",
      "\n",
      "Odd\n"
     ]
    }
   ],
   "source": [
    "# Operators: Unary, Binary, Ternary\n",
    "# Unary Operators (Require only one operand): +100 -300\n",
    "# Binary Operators (Require only two operands): 700 + 100    900 - 300\n",
    "# Ternary Operator (Requires only three operands)\n",
    "num1 = 100;\n",
    "result = \"Even\" if (num1 % 2 == 0) else \"Odd\"\n",
    "print (result)\n",
    "print()\n",
    "num1 = 101;\n",
    "result = \"Even\" if (num1 % 2 == 0) else \"Odd\"\n",
    "print (result)"
   ]
  },
  {
   "cell_type": "code",
   "execution_count": 34,
   "id": "5a215d49-30a5-4c34-9cfd-50662edde0d7",
   "metadata": {},
   "outputs": [
    {
     "name": "stdout",
     "output_type": "stream",
     "text": [
      "Hello Hello Hello \n",
      "Banana\n",
      "Welcome Welcome Welcome Welcome Welcome \n"
     ]
    }
   ],
   "source": [
    "print (\"Hello \" * 3)\n",
    "print (\"Ba\" + \"na\" * 2)\n",
    "print (\"Welcome \" * 5)"
   ]
  },
  {
   "cell_type": "markdown",
   "id": "86f99a9f-94fa-437e-99ca-82341a5dfbac",
   "metadata": {},
   "source": [
    "## **ASCII Codes and Characters**"
   ]
  },
  {
   "cell_type": "code",
   "execution_count": null,
   "id": "51844390-f593-466a-a7ff-a7de9f2bd740",
   "metadata": {},
   "outputs": [],
   "source": [
    "# ASCII (American Standard Code for Information Interchange) Codes\n",
    "# ASCII Code is 8 bits code ranging from 0 to 255\n",
    "# It can be divided into two categories:\n",
    "# 1. Normal ASCII Codes (0 to 127) - Printable\n",
    "# 2. Extended ASCII Codes (128 to 255) - Non-Printable\n",
    "\n",
    "# A => 65, B => 66, Z => 90\n",
    "# a => 97, b => 98, z => 122\n",
    "# 0 => 48, 1 => 49, 9 => 57\n",
    "# Space Bar/Blank => 32, Enter => 13, Esc => 27, Back Space => 9, Tab => 8"
   ]
  },
  {
   "cell_type": "code",
   "execution_count": 36,
   "id": "d1c9df01-d696-4fa5-ae21-c6dcc1c88cc7",
   "metadata": {},
   "outputs": [
    {
     "name": "stdout",
     "output_type": "stream",
     "text": [
      "65 97 90 122\n",
      "A a Z z\n"
     ]
    }
   ],
   "source": [
    "print (ord('A'), ord('a'), ord('Z'), ord('z'))  # converts characters to ASCII Codes\n",
    "print (chr(65), chr(97), chr(90), chr(122))     # converts ASCII Codes to characters"
   ]
  },
  {
   "cell_type": "markdown",
   "id": "3422a6e5-96a9-4e09-b957-030aed4a99ea",
   "metadata": {},
   "source": [
    "## **Conditional Statements**"
   ]
  },
  {
   "cell_type": "code",
   "execution_count": 56,
   "id": "bb5f3328-1ffe-43e0-93db-8f8cc9aed2d5",
   "metadata": {},
   "outputs": [
    {
     "name": "stdin",
     "output_type": "stream",
     "text": [
      "Please enter the first integer:  300\n",
      "Please enter the second integer:  200\n",
      "Please enter the third integer:  100\n"
     ]
    },
    {
     "name": "stdout",
     "output_type": "stream",
     "text": [
      "The first number is the maximum number...\n",
      "So the maximum number is 300\n",
      "End of the program...\n"
     ]
    }
   ],
   "source": [
    "# Take three numbers from the user as input and find the maximum of these numbers\n",
    "num1 = int(input(\"Please enter the first integer: \"))\n",
    "num2 = int(input(\"Please enter the second integer: \"))\n",
    "num3 = int(input(\"Please enter the third integer: \"))\n",
    "if (num1 > num2):\n",
    "    if (num1 > num3):\n",
    "        print (\"The first number is the maximum number...\")\n",
    "        print (\"So the maximum number is\", num1)\n",
    "    else:\n",
    "        print (\"The third number is the maximum number...\")\n",
    "        print (\"So the maximum number is\", num3)\n",
    "elif (num2 > num3):\n",
    "    print (\"The second number is the maximum number...\")\n",
    "    print (\"So the maximum number is\", num2)\n",
    "else:\n",
    "    print (\"The third number is the maximum number...\")\n",
    "    print (\"So the maximum number is\", num3)\n",
    "print (\"End of the program...\")"
   ]
  },
  {
   "cell_type": "code",
   "execution_count": 57,
   "id": "bd6eefff-e3db-417f-b37a-0ae0f472653d",
   "metadata": {},
   "outputs": [
    {
     "name": "stdin",
     "output_type": "stream",
     "text": [
      "Please enter the first integer:  300\n",
      "Please enter the second integer:  200\n",
      "Please enter the third integer:  100\n"
     ]
    },
    {
     "name": "stdout",
     "output_type": "stream",
     "text": [
      "The first number is the maximum number...\n",
      "So the maximum number is 300\n",
      "End of the program...\n"
     ]
    }
   ],
   "source": [
    "# Take three numbers from the user as input and find the maximum of these numbers\n",
    "num1 = int(input(\"Please enter the first integer: \"))\n",
    "num2 = int(input(\"Please enter the second integer: \"))\n",
    "num3 = int(input(\"Please enter the third integer: \"))\n",
    "if (num1 > num2 and num1 > num3):\n",
    "    print (\"The first number is the maximum number...\")\n",
    "    print (\"So the maximum number is\", num1)\n",
    "elif (num2 > num3):\n",
    "    print (\"The second number is the maximum number...\")\n",
    "    print (\"So the maximum number is\", num2)\n",
    "else:\n",
    "    print (\"The third number is the maximum number...\")\n",
    "    print (\"So the maximum number is\", num3)\n",
    "print (\"End of the program...\")"
   ]
  },
  {
   "cell_type": "code",
   "execution_count": 60,
   "id": "b0eb5f44-2f9e-4702-8932-7dda62e2a445",
   "metadata": {},
   "outputs": [
    {
     "name": "stdout",
     "output_type": "stream",
     "text": [
      "M A I N  M E N U ...\n",
      "~~~~~~~~~~~~~~~~~~~~\n",
      "1 >  A D D I T I O N  O P E R A T I O N ...\n",
      "2 >  S U B T R A C T I O N  O P E R A T I O N ...\n",
      "3 >  M U L T I P L I C A T I O N  O P E R A T I O N ...\n",
      "4 >  D I V I S I O N  O P E R A T I O N ...\n"
     ]
    },
    {
     "name": "stdin",
     "output_type": "stream",
     "text": [
      "Please enter youe choice integer (1 to 4):  4\n",
      "Please enter the first integer:  100\n",
      "Please enter the second integer:  20\n"
     ]
    },
    {
     "name": "stdout",
     "output_type": "stream",
     "text": [
      "Performing the division operation...\n",
      "So 100 / 20 = 5.0\n",
      "End of the program...\n"
     ]
    }
   ],
   "source": [
    "# Calculator Program\n",
    "print (\"M A I N  M E N U ...\")\n",
    "print (\"~~~~~~~~~~~~~~~~~~~~\")\n",
    "print (\"1 >  A D D I T I O N  O P E R A T I O N ...\")\n",
    "print (\"2 >  S U B T R A C T I O N  O P E R A T I O N ...\")\n",
    "print (\"3 >  M U L T I P L I C A T I O N  O P E R A T I O N ...\")\n",
    "print (\"4 >  D I V I S I O N  O P E R A T I O N ...\")\n",
    "choice = int(input(\"Please enter youe choice integer (1 to 4): \"))\n",
    "num1 = int(input(\"Please enter the first integer: \"))\n",
    "num2 = int(input(\"Please enter the second integer: \"))\n",
    "if (choice == 1):\n",
    "    print (\"Performing the addition operation...\")\n",
    "    result = num1 + num2\n",
    "    print (f\"So {num1} + {num2} = {result}\")\n",
    "elif (choice == 2):\n",
    "    print (\"Performing the subtraction operation...\")\n",
    "    result = num1 - num2\n",
    "    print (f\"So {num1} - {num2} = {result}\")\n",
    "elif (choice == 3):\n",
    "    print (\"Performing the multiplication operation...\")\n",
    "    result = num1 * num2\n",
    "    print (f\"So {num1} * {num2} = {result}\")\n",
    "elif (choice == 4):\n",
    "    print (\"Performing the division operation...\")\n",
    "    if (num2 == 0):\n",
    "        print (\"Division by ZERO is Illegal !!!\")\n",
    "        print (\"Division operation can not be carried out...\")\n",
    "    else:\n",
    "        result = num1 / num2\n",
    "        print (f\"So {num1} / {num2} = {result}\")\n",
    "else:\n",
    "    print (\"Invalid choice number has been provided...\")\n",
    "    print (\"No operation could get carried out...\")\n",
    "print (\"End of the program...\")"
   ]
  },
  {
   "cell_type": "markdown",
   "id": "b7989fcc-4c00-4895-926b-c038008bc003",
   "metadata": {},
   "source": [
    "## **Dealing with 'print' statement**"
   ]
  },
  {
   "cell_type": "code",
   "execution_count": 40,
   "id": "84d06f22-beba-4903-8826-d26661d494a7",
   "metadata": {},
   "outputs": [
    {
     "name": "stdout",
     "output_type": "stream",
     "text": [
      "Hello everyone\n",
      "Welcome\n"
     ]
    }
   ],
   "source": [
    "print (\"Hello\", \"everyone\")\n",
    "print (\"Welcome\")"
   ]
  },
  {
   "cell_type": "code",
   "execution_count": 46,
   "id": "886503ee-ca39-40ee-915d-6cd78df2c9fd",
   "metadata": {},
   "outputs": [
    {
     "name": "stdout",
     "output_type": "stream",
     "text": [
      "Hello, everyone - Welcome\n"
     ]
    }
   ],
   "source": [
    "print (\"Hello\", \"everyone\", sep = \", \", end = \" - \")\n",
    "print (\"Welcome\")"
   ]
  },
  {
   "cell_type": "code",
   "execution_count": 41,
   "id": "c7ef9f51-d779-411b-b909-70a6c244a760",
   "metadata": {},
   "outputs": [
    {
     "name": "stdout",
     "output_type": "stream",
     "text": [
      "Help on built-in function print in module builtins:\n",
      "\n",
      "print(...)\n",
      "    print(value, ..., sep=' ', end='\\n', file=sys.stdout, flush=False)\n",
      "    \n",
      "    Prints the values to a stream, or to sys.stdout by default.\n",
      "    Optional keyword arguments:\n",
      "    file:  a file-like object (stream); defaults to the current sys.stdout.\n",
      "    sep:   string inserted between values, default a space.\n",
      "    end:   string appended after the last value, default a newline.\n",
      "    flush: whether to forcibly flush the stream.\n",
      "\n"
     ]
    }
   ],
   "source": [
    "help (print)   # ... ellipsis"
   ]
  },
  {
   "cell_type": "markdown",
   "id": "9fad5f2b-ed00-40ed-8b7b-f96a9d3f006e",
   "metadata": {},
   "source": [
    "## **Day-2**"
   ]
  },
  {
   "cell_type": "markdown",
   "id": "7a7c9604-8ca5-4119-94ac-f753d617cdc3",
   "metadata": {},
   "source": [
    "## **Python Loops**"
   ]
  },
  {
   "cell_type": "code",
   "execution_count": 1,
   "id": "85024cca-2cb2-470e-b070-3fa74d35b1ff",
   "metadata": {},
   "outputs": [
    {
     "name": "stdout",
     "output_type": "stream",
     "text": [
      "Looping with i = 0\n",
      "Looping with i = 1\n",
      "Looping with i = 2\n",
      "Looping with i = 3\n",
      "Looping with i = 4\n",
      "Looping with i = 5\n",
      "Looping with i = 6\n",
      "Looping with i = 7\n",
      "Looping with i = 8\n",
      "Looping with i = 9\n"
     ]
    }
   ],
   "source": [
    "for i in range(10):\n",
    "    print (\"Looping with i =\", i)"
   ]
  },
  {
   "cell_type": "code",
   "execution_count": 2,
   "id": "f27840a6-559b-4272-86a4-46aa23e5f069",
   "metadata": {},
   "outputs": [
    {
     "name": "stdout",
     "output_type": "stream",
     "text": [
      "Looping with i = 0\n",
      "Looping with i = 1\n",
      "Looping with i = 2\n",
      "Looping with i = 3\n",
      "Looping with i = 4\n",
      "Looping with i = 5\n",
      "Looping with i = 6\n",
      "Looping with i = 7\n",
      "Looping with i = 8\n",
      "Looping with i = 9\n"
     ]
    }
   ],
   "source": [
    "for i in range(0, 10):\n",
    "    print (\"Looping with i =\", i)"
   ]
  },
  {
   "cell_type": "code",
   "execution_count": 3,
   "id": "452baefa-bb3a-492c-bd0b-e8c6c81b1d26",
   "metadata": {},
   "outputs": [
    {
     "name": "stdout",
     "output_type": "stream",
     "text": [
      "Looping with i = 0\n",
      "Looping with i = 2\n",
      "Looping with i = 4\n",
      "Looping with i = 6\n",
      "Looping with i = 8\n"
     ]
    }
   ],
   "source": [
    "for i in range(0, 10, 2):\n",
    "    print (\"Looping with i =\", i)"
   ]
  },
  {
   "cell_type": "code",
   "execution_count": 4,
   "id": "312f549a-c03a-4927-bda7-1bc5927111b1",
   "metadata": {},
   "outputs": [
    {
     "name": "stdout",
     "output_type": "stream",
     "text": [
      "Looping with i = 1\n",
      "Looping with i = 3\n",
      "Looping with i = 5\n",
      "Looping with i = 7\n",
      "Looping with i = 9\n"
     ]
    }
   ],
   "source": [
    "for i in range(1, 10, 2):\n",
    "    print (\"Looping with i =\", i)"
   ]
  },
  {
   "cell_type": "code",
   "execution_count": 5,
   "id": "efeab98d-7899-40b5-b5a6-4215ef55557d",
   "metadata": {},
   "outputs": [
    {
     "name": "stdout",
     "output_type": "stream",
     "text": [
      "Looping with i = 10\n",
      "Looping with i = 8\n",
      "Looping with i = 6\n",
      "Looping with i = 4\n",
      "Looping with i = 2\n"
     ]
    }
   ],
   "source": [
    "for i in range(10, 0, -2):\n",
    "    print (\"Looping with i =\", i)"
   ]
  },
  {
   "cell_type": "code",
   "execution_count": 6,
   "id": "431701e6-5c69-4309-830c-ef11e56c899d",
   "metadata": {},
   "outputs": [
    {
     "name": "stdout",
     "output_type": "stream",
     "text": [
      "0 - Hello\n",
      "1 - Hello\n",
      "2 - Hello\n",
      "3 - Hello\n",
      "4 - Hello\n",
      "5 - Hello\n",
      "6 - Hello\n",
      "7 - Hello\n",
      "8 - Hello\n",
      "9 - Hello\n",
      "Executing the ELSE Block...\n",
      "End of the program...\n"
     ]
    }
   ],
   "source": [
    "for i in range(10):\n",
    "    print (f\"{i} - Hello\")\n",
    "else:\n",
    "    print (\"Executing the ELSE Block...\")\n",
    "print (\"End of the program...\")"
   ]
  },
  {
   "cell_type": "code",
   "execution_count": 7,
   "id": "b6fb51da-ed63-416a-a4f5-bdee6825315d",
   "metadata": {},
   "outputs": [
    {
     "name": "stdout",
     "output_type": "stream",
     "text": [
      "0 - Hello\n",
      "1 - Hello\n",
      "2 - Hello\n",
      "3 - Hello\n",
      "4 - Hello\n",
      "5 - Hello\n",
      "6 - Hello\n",
      "Breaking out from the loop for i = 6...\n",
      "End of the program...\n"
     ]
    }
   ],
   "source": [
    "for i in range(10):\n",
    "    print (f\"{i} - Hello\")\n",
    "    if (i == 6):\n",
    "        print (f\"Breaking out from the loop for i = {i}...\")\n",
    "        break\n",
    "else:\n",
    "    print (\"Executing the ELSE Block...\")\n",
    "print (\"End of the program...\")"
   ]
  },
  {
   "cell_type": "code",
   "execution_count": 8,
   "id": "35a90e14-6ea8-4f58-a64f-d9aba1f7a4cd",
   "metadata": {},
   "outputs": [
    {
     "name": "stdout",
     "output_type": "stream",
     "text": [
      "0 - Hello\n",
      "1 - Hello\n",
      "2 - Hello\n",
      "3 - Hello\n",
      "4 - Hello\n",
      "5 - Hello\n",
      "6 - Hello\n",
      "7 - Hello\n",
      "8 - Hello\n",
      "9 - Hello\n",
      "Executing the ELSE Block...\n",
      "End of the program...\n"
     ]
    }
   ],
   "source": [
    "for i in range(10):\n",
    "    print (f\"{i} - Hello\")\n",
    "    if (i == 20):\n",
    "        print (f\"Breaking out from the loop for i = {i}...\")\n",
    "        break\n",
    "else:\n",
    "    print (\"Executing the ELSE Block...\")\n",
    "print (\"End of the program...\")"
   ]
  },
  {
   "cell_type": "code",
   "execution_count": 9,
   "id": "6109b859-b8d1-4913-8659-64fb42777e45",
   "metadata": {},
   "outputs": [
    {
     "name": "stdout",
     "output_type": "stream",
     "text": [
      "0 - Hello\n",
      "1 - Hello\n",
      "2 - Hello\n",
      "3 - Hello\n",
      "4 - Hello\n",
      "5 - Hello\n",
      "6 - Hello\n",
      "7 - Hello\n",
      "8 - Hello\n",
      "9 - Hello\n",
      "Breaking out from the loop for i = 9...\n",
      "End of the program...\n"
     ]
    }
   ],
   "source": [
    "for i in range(10):\n",
    "    print (f\"{i} - Hello\")\n",
    "    if (i == 9):\n",
    "        print (f\"Breaking out from the loop for i = {i}...\")\n",
    "        break\n",
    "else:\n",
    "    print (\"Executing the ELSE Block...\")\n",
    "print (\"End of the program...\")"
   ]
  },
  {
   "cell_type": "code",
   "execution_count": 10,
   "id": "732dc029-a126-4344-9768-f61fd16e97c5",
   "metadata": {},
   "outputs": [
    {
     "name": "stdout",
     "output_type": "stream",
     "text": [
      "0 - Hello\n",
      "1 - Hello\n",
      "2 - Hello\n",
      "Continuing again for i = 3...\n",
      "4 - Hello\n",
      "5 - Hello\n",
      "Continuing again for i = 6...\n",
      "7 - Hello\n",
      "8 - Hello\n",
      "9 - Hello\n",
      "Executing the ELSE Block...\n",
      "End of the program...\n"
     ]
    }
   ],
   "source": [
    "for i in range(10):\n",
    "    if (i == 3 or i == 6):\n",
    "        print (f\"Continuing again for i = {i}...\")\n",
    "        continue\n",
    "    print (f\"{i} - Hello\")\n",
    "else:\n",
    "    print (\"Executing the ELSE Block...\")\n",
    "print (\"End of the program...\")"
   ]
  },
  {
   "cell_type": "code",
   "execution_count": 13,
   "id": "ac9abebf-ca35-46ac-aaa8-0f9b69d24969",
   "metadata": {},
   "outputs": [],
   "source": [
    "for i in range(10):\n",
    "    pass    # statement place holder"
   ]
  },
  {
   "cell_type": "code",
   "execution_count": 16,
   "id": "71973ecc-90a0-4259-8140-afe2e68d128b",
   "metadata": {},
   "outputs": [
    {
     "name": "stdout",
     "output_type": "stream",
     "text": [
      "GREATER...\n"
     ]
    }
   ],
   "source": [
    "num = 100\n",
    "if (num > 50):\n",
    "    print (\"GREATER...\")\n",
    "else:\n",
    "    pass"
   ]
  },
  {
   "cell_type": "code",
   "execution_count": 17,
   "id": "e99739f7-6e16-49eb-987a-39cf5b4df78e",
   "metadata": {},
   "outputs": [
    {
     "name": "stdout",
     "output_type": "stream",
     "text": [
      "GREATER...\n"
     ]
    }
   ],
   "source": [
    "num = 100\n",
    "if (num < 50):\n",
    "    pass\n",
    "else:\n",
    "    print (\"GREATER...\")"
   ]
  },
  {
   "cell_type": "code",
   "execution_count": 1,
   "id": "4207222e-bd73-46e5-bdb7-1473f9f83fc9",
   "metadata": {},
   "outputs": [
    {
     "name": "stdin",
     "output_type": "stream",
     "text": [
      "Please enter an integer number:  100\n"
     ]
    },
    {
     "name": "stdout",
     "output_type": "stream",
     "text": [
      "100 is NOT a Prime Number...\n",
      "End of the program...\n"
     ]
    }
   ],
   "source": [
    "# find whether a number is a PRIME Number or not\n",
    "# example 3, 5, 7, 11, 13, 17, 19, ...\n",
    "num = int(input(\"Please enter an integer number: \"))\n",
    "for i in range(2, num):\n",
    "    if (num % i == 0):\n",
    "        print (f\"{num} is NOT a Prime Number...\")\n",
    "        break\n",
    "else:\n",
    "    print (f\"{num} is a Prime Number...\")\n",
    "print (\"End of the program...\")"
   ]
  },
  {
   "cell_type": "code",
   "execution_count": 21,
   "id": "a101f2c1-1ab4-4e21-ab35-0bbad1508537",
   "metadata": {},
   "outputs": [
    {
     "name": "stdout",
     "output_type": "stream",
     "text": [
      "Looping with i = 1\n",
      "Looping with i = 2\n",
      "Looping with i = 3\n",
      "Looping with i = 4\n",
      "Looping with i = 5\n",
      "Looping with i = 6\n",
      "Looping with i = 7\n",
      "Looping with i = 8\n",
      "Looping with i = 9\n",
      "Looping with i = 10\n",
      "Executing the ELSE Block...\n",
      "End of the program...\n"
     ]
    }
   ],
   "source": [
    "i = 1\n",
    "while (i <= 10):\n",
    "    print (f\"Looping with i = {i}\")\n",
    "    i = i + 1\n",
    "else:\n",
    "    print (\"Executing the ELSE Block...\")\n",
    "print (\"End of the program...\")"
   ]
  },
  {
   "cell_type": "code",
   "execution_count": 23,
   "id": "77955db8-d371-4ee7-8a83-59ab867c0c56",
   "metadata": {},
   "outputs": [
    {
     "name": "stdout",
     "output_type": "stream",
     "text": [
      "Looping with i = 1\n",
      "Looping with i = 3\n",
      "Looping with i = 5\n",
      "Looping with i = 7\n",
      "Looping with i = 9\n",
      "Executing the ELSE Block...\n",
      "End of the program...\n"
     ]
    }
   ],
   "source": [
    "i = 1\n",
    "while (i <= 10):\n",
    "    print (f\"Looping with i = {i}\")\n",
    "    i += 2\n",
    "else:\n",
    "    print (\"Executing the ELSE Block...\")\n",
    "print (\"End of the program...\")"
   ]
  },
  {
   "cell_type": "code",
   "execution_count": 27,
   "id": "452e1e24-e3bf-4047-9509-feaf6c2f2149",
   "metadata": {},
   "outputs": [
    {
     "name": "stdout",
     "output_type": "stream",
     "text": [
      "Visit Doctor...\n",
      "Day No. - 1: Good Morning...\n",
      "Day No. - 1 and Medicine No. - 1...\n",
      "Day No. - 1 and Medicine No. - 2...\n",
      "Day No. - 1 and Medicine No. - 3...\n",
      "Day No. - 1: Good Night...\n",
      "------------------------------------------------\n",
      "Day No. - 2: Good Morning...\n",
      "Day No. - 2 and Medicine No. - 1...\n",
      "Day No. - 2 and Medicine No. - 2...\n",
      "Day No. - 2 and Medicine No. - 3...\n",
      "Day No. - 2: Good Night...\n",
      "------------------------------------------------\n",
      "Day No. - 3: Good Morning...\n",
      "Day No. - 3 and Medicine No. - 1...\n",
      "Day No. - 3 and Medicine No. - 2...\n",
      "Day No. - 3 and Medicine No. - 3...\n",
      "Day No. - 3: Good Night...\n",
      "------------------------------------------------\n",
      "Day No. - 4: Good Morning...\n",
      "Day No. - 4 and Medicine No. - 1...\n",
      "Day No. - 4 and Medicine No. - 2...\n",
      "Day No. - 4 and Medicine No. - 3...\n",
      "Day No. - 4: Good Night...\n",
      "------------------------------------------------\n",
      "Day No. - 5: Good Morning...\n",
      "Day No. - 5 and Medicine No. - 1...\n",
      "Day No. - 5 and Medicine No. - 2...\n",
      "Day No. - 5 and Medicine No. - 3...\n",
      "Day No. - 5: Good Night...\n",
      "------------------------------------------------\n",
      "Thanks to Doctor...\n",
      "Total number of medicines consumed is 15...\n"
     ]
    }
   ],
   "source": [
    "# nested loops\n",
    "print (\"Visit Doctor...\")    # 1 time\n",
    "medicount = 0\n",
    "for day in range(1, 6):\n",
    "    print (f\"Day No. - {day}: Good Morning...\")    # 5 times\n",
    "    for medi in range(1, 4):\n",
    "        print (f\"Day No. - {day} and Medicine No. - {medi}...\")    # 15 times\n",
    "        medicount += 1    # 15 times\n",
    "    print (f\"Day No. - {day}: Good Night...\")    # 5 times\n",
    "    print (\"------------------------------------------------\")    # 5 times\n",
    "print (\"Thanks to Doctor...\")    # 1 time\n",
    "print (f\"Total number of medicines consumed is {medicount}...\")    # 1 time"
   ]
  },
  {
   "cell_type": "code",
   "execution_count": 28,
   "id": "c7ebc364-3c99-49c9-9e5c-db5a11967b26",
   "metadata": {},
   "outputs": [
    {
     "name": "stdout",
     "output_type": "stream",
     "text": [
      "Visit Doctor...\n",
      "Day No. - 1: Good Morning...\n",
      "Day No. - 1 and Medicine No. - 1...\n",
      "Day No. - 1 and Medicine No. - 2...\n",
      "Day No. - 1 and Medicine No. - 3...\n",
      "Day No. - 1: Good Night...\n",
      "------------------------------------------------\n",
      "Day No. - 2: Good Morning...\n",
      "Day No. - 2 and Medicine No. - 1...\n",
      "Day No. - 2 and Medicine No. - 2...\n",
      "Day No. - 2 and Medicine No. - 3...\n",
      "Day No. - 2: Good Night...\n",
      "------------------------------------------------\n",
      "Day No. - 3: Good Morning...\n",
      "Day No. - 3 and Medicine No. - 1...\n",
      "Day No. - 3 and Medicine No. - 2...\n",
      "Day No. - 3 and Medicine No. - 3...\n",
      "Day No. - 3: Good Night...\n",
      "------------------------------------------------\n",
      "Day No. - 4: Good Morning...\n",
      "Day No. - 4 and Medicine No. - 1...\n",
      "Day No. - 4 and Medicine No. - 2...\n",
      "Day No. - 4 and Medicine No. - 3...\n",
      "Day No. - 4: Good Night...\n",
      "------------------------------------------------\n",
      "Day No. - 5: Good Morning...\n",
      "Day No. - 5 and Medicine No. - 1...\n",
      "Day No. - 5 and Medicine No. - 2...\n",
      "Day No. - 5 and Medicine No. - 3...\n",
      "Day No. - 5: Good Night...\n",
      "------------------------------------------------\n",
      "Thanks to Doctor...\n",
      "Total number of medicines consumed is 15...\n"
     ]
    }
   ],
   "source": [
    "# nested loops\n",
    "print (\"Visit Doctor...\")    # 1 time\n",
    "medicount = 0\n",
    "day = 1\n",
    "while (day <= 5):\n",
    "    print (f\"Day No. - {day}: Good Morning...\")    # 5 times\n",
    "    medi = 1\n",
    "    while (medi <= 3):\n",
    "        print (f\"Day No. - {day} and Medicine No. - {medi}...\")    # 15 times\n",
    "        medicount += 1    # 15 times\n",
    "        medi += 1\n",
    "    print (f\"Day No. - {day}: Good Night...\")    # 5 times\n",
    "    print (\"------------------------------------------------\")    # 5 times\n",
    "    day += 1\n",
    "print (\"Thanks to Doctor...\")    # 1 time\n",
    "print (f\"Total number of medicines consumed is {medicount}...\")    # 1 time"
   ]
  },
  {
   "cell_type": "code",
   "execution_count": null,
   "id": "04283263-48f8-4a90-9f18-1025ed96dafb",
   "metadata": {},
   "outputs": [],
   "source": [
    "# Pattern - 1\n",
    "n = 6 (user given)\n",
    "               i   .   *\n",
    "             -------------\n",
    ".....*         1   5   1       (i, n)\n",
    "....***        2   4   3  . => (n - i)\n",
    "...*****       3   3   5\n",
    "..*******      4   2   7  * => (2 * i - 1)\n",
    ".*********     5   1   9\n",
    "***********    6   0  11\n",
    "             -------------\n",
    "             Tracing Table"
   ]
  },
  {
   "cell_type": "code",
   "execution_count": 37,
   "id": "45345ff1-dcf6-41cb-957b-05f9199d3f70",
   "metadata": {},
   "outputs": [
    {
     "name": "stdin",
     "output_type": "stream",
     "text": [
      "Please enter the number of layers:  6\n"
     ]
    },
    {
     "name": "stdout",
     "output_type": "stream",
     "text": [
      ".....*\n",
      "....***\n",
      "...*****\n",
      "..*******\n",
      ".*********\n",
      "***********\n",
      "End of the pattern printing...\n"
     ]
    }
   ],
   "source": [
    "n = int(input(\"Please enter the number of layers: \"))\n",
    "for i in range(1, n + 1):\n",
    "    print (\".\" * (n - i) + \"*\" * (2 * i - 1))\n",
    "print (\"End of the pattern printing...\")"
   ]
  },
  {
   "cell_type": "code",
   "execution_count": 31,
   "id": "a386c0a1-8622-4114-9120-f993a063301b",
   "metadata": {},
   "outputs": [
    {
     "name": "stdout",
     "output_type": "stream",
     "text": [
      "Hello Hello Hello Hello \n",
      "Welcome Welcome Welcome Welcome Welcome Welcome \n"
     ]
    }
   ],
   "source": [
    "print (\"Hello \" * 4)\n",
    "print (\"Welcome \" * 6)"
   ]
  },
  {
   "cell_type": "code",
   "execution_count": null,
   "id": "cfd03137-3841-4b4f-8e8c-dfcecd9b39a6",
   "metadata": {},
   "outputs": [],
   "source": [
    "# Pattern - 2\n",
    "n = 6 (user given)\n",
    "               i   .   *\n",
    "             -------------\n",
    "***********    1   0  11       (i, n)\n",
    ".*********     2   1   9  . => (i - 1)\n",
    "..*******      3   2   7\n",
    "...*****       4   3   5  * => (2 * (n - i) + 1)\n",
    "....****       5   4   3\n",
    ".....*         6   5   1\n",
    "             -------------"
   ]
  },
  {
   "cell_type": "code",
   "execution_count": 38,
   "id": "801b3765-b477-4491-ab17-0db993e31d2a",
   "metadata": {},
   "outputs": [
    {
     "name": "stdin",
     "output_type": "stream",
     "text": [
      "Please enter the number of layers:  6\n"
     ]
    },
    {
     "name": "stdout",
     "output_type": "stream",
     "text": [
      "***********\n",
      ".*********\n",
      "..*******\n",
      "...*****\n",
      "....***\n",
      ".....*\n",
      "End of the pattern printing...\n"
     ]
    }
   ],
   "source": [
    "n = int(input(\"Please enter the number of layers: \"))\n",
    "for i in range(1, n + 1):\n",
    "    print (\".\" * (i - 1) + \"*\" * (2 * (n - i) + 1))\n",
    "print (\"End of the pattern printing...\")"
   ]
  },
  {
   "cell_type": "code",
   "execution_count": null,
   "id": "8520196a-5c12-4f5e-b746-7d05ec8aaba4",
   "metadata": {},
   "outputs": [],
   "source": [
    "# Pattern - 3\n",
    "n = 11 (user given ODD layer number)\n",
    "               i   .   *     m = (n + 1) // 2 = 6\n",
    "             -------------\n",
    ".....*         1   5   1       (i, n, m)\n",
    "....***        2   4   3  . => (m - i)\n",
    "...*****       3   3   5\n",
    "..*******      4   2   7  * => (2 * i - 1)\n",
    ".*********     5   1   9\n",
    "***********  __6___0__11__\n",
    ".*********     7   1   9\n",
    "..*******      8   2   7  . => (i - m)\n",
    "...*****       9   3   5\n",
    "....***       10   4   3  * => (2 * (n - i) + 1)\n",
    ".....*        11   5   1\n",
    "             -------------"
   ]
  },
  {
   "cell_type": "code",
   "execution_count": 42,
   "id": "cc5e7bb2-b9a6-4cde-9e7d-aa8bbf015619",
   "metadata": {},
   "outputs": [
    {
     "name": "stdin",
     "output_type": "stream",
     "text": [
      "Please enter the ODD number of layers:  12\n",
      "Please enter the ODD number of layers:  18\n",
      "Please enter the ODD number of layers:  20\n",
      "Please enter the ODD number of layers:  34\n",
      "Please enter the ODD number of layers:  11\n"
     ]
    },
    {
     "name": "stdout",
     "output_type": "stream",
     "text": [
      ".....*\n",
      "....***\n",
      "...*****\n",
      "..*******\n",
      ".*********\n",
      "***********\n",
      ".*********\n",
      "..*******\n",
      "...*****\n",
      "....***\n",
      ".....*\n",
      "End of the pattern printing...\n"
     ]
    }
   ],
   "source": [
    "while (True):\n",
    "    n = int(input(\"Please enter the ODD number of layers: \"))\n",
    "    if (n % 2 == 1):\n",
    "        break\n",
    "m = (n + 1) // 2\n",
    "for i in range(1, n + 1):\n",
    "    if (i <= m):\n",
    "        b = (m - i)\n",
    "        s = (2 * i - 1)\n",
    "    else:\n",
    "        b = (i - m)\n",
    "        s = (2 * (n - i) + 1)\n",
    "    print (\".\" * b + \"*\" * s)\n",
    "print (\"End of the pattern printing...\")"
   ]
  },
  {
   "cell_type": "markdown",
   "id": "46af5428-d062-415b-9441-1148a2aaa2d4",
   "metadata": {},
   "source": [
    " ## **Python Inbuilt Collections**"
   ]
  },
  {
   "cell_type": "code",
   "execution_count": 44,
   "id": "0fc9c787-92f8-4548-bb6a-bccedce3e2e6",
   "metadata": {},
   "outputs": [
    {
     "name": "stdout",
     "output_type": "stream",
     "text": [
      "[100, 2.45, True, 'Food', 201] 5 <class 'list'> 2692787712448\n",
      "(100, 2.45, True, 'Food', 201) 5 <class 'tuple'> 2692766937344\n",
      "{'name': 'Bidisha', 'location': 'Noida', 'job': 'Developer', 'company': 'Accenture'} 4 <class 'dict'> 2692786716800\n",
      "{True, 2.45, 'Delhi', 100, 201, 'Food'} 6 <class 'set'> 2692787274688\n",
      "frozenset({True, 2.45, 100, 201, 'Delhi', 'Food'}) 6 <class 'frozenset'> 2692765757088\n"
     ]
    }
   ],
   "source": [
    "# different inbuilt collections\n",
    "list1 = [100, 2.45, True, \"Food\", 201]   # mutable\n",
    "print (list1, len(list1), type(list1), id(list1))\n",
    "tuple1 = (100, 2.45, True, \"Food\", 201)   # immutable, read only\n",
    "print (tuple1, len(tuple1), type(tuple1), id(tuple1))\n",
    "dict1 = {'name':'Bidisha', 'location':'Noida', 'job':'Developer', 'company':'Accenture'} # mutable\n",
    "print (dict1, len(dict1), type(dict1), id(dict1))\n",
    "set1 = {\"Delhi\", 100, 2.45, True, \"Food\", 201, True, \"Food\", 201}  # mutable\n",
    "print (set1, len(set1), type(set1), id(set1))\n",
    "fset1 = frozenset([\"Delhi\", 100, 2.45, True, \"Food\", 201, True, \"Food\", 201]) # immutable, read only\n",
    "print (fset1, len(fset1), type(fset1), id(fset1))"
   ]
  },
  {
   "cell_type": "markdown",
   "id": "91858929-a3cd-4836-8c35-9b80ce1ab5f8",
   "metadata": {},
   "source": [
    "## **Day-3**"
   ]
  },
  {
   "cell_type": "markdown",
   "id": "cd36af32-c76c-445f-8787-dcdd4f90202f",
   "metadata": {},
   "source": [
    "## **User Defined Function (UDF)**"
   ]
  },
  {
   "cell_type": "code",
   "execution_count": 2,
   "id": "3b7ca5a4-98b5-4aeb-962a-3b9a3a9a478e",
   "metadata": {},
   "outputs": [
    {
     "name": "stdout",
     "output_type": "stream",
     "text": [
      "Hello Hello Hello \n",
      "Hello Hello Hello \n",
      "Hello Hello Hello \n"
     ]
    }
   ],
   "source": [
    "def funct1():\n",
    "    print (\"Hello \" * 3)\n",
    "    \n",
    "funct1()\n",
    "funct1()\n",
    "funct1()"
   ]
  },
  {
   "cell_type": "code",
   "execution_count": 5,
   "id": "54e04662-3a56-4f9a-9256-43d87124a9ac",
   "metadata": {},
   "outputs": [
    {
     "name": "stdout",
     "output_type": "stream",
     "text": [
      "Welcome Welcome Welcome Welcome Welcome Welcome Welcome Welcome Welcome Welcome \n",
      "Hello Hello Hello Hello Hello \n",
      "Good Bye !!! Good Bye !!! Good Bye !!! \n"
     ]
    }
   ],
   "source": [
    "def funct2(msg, times):  # positional parameters\n",
    "    print (msg * times)\n",
    "    \n",
    "funct2(\"Welcome \", 10)   # positional arguments\n",
    "funct2(\"Hello \", 5)\n",
    "funct2(\"Good Bye !!! \",  3)"
   ]
  },
  {
   "cell_type": "code",
   "execution_count": 6,
   "id": "312ca730-88a7-4743-99f1-d9087e1d56ba",
   "metadata": {},
   "outputs": [
    {
     "name": "stdout",
     "output_type": "stream",
     "text": [
      "Welcome Welcome Welcome Welcome Welcome Welcome Welcome Welcome Welcome Welcome \n",
      "Hello Hello Hello Hello Hello \n",
      "Good Bye !!! Good Bye !!! Good Bye !!! \n"
     ]
    }
   ],
   "source": [
    "def funct3(msg, times):  # positional parameters\n",
    "    return msg * times\n",
    "    \n",
    "print(funct3(\"Welcome \", 10))   # positional arguments\n",
    "print(funct3(\"Hello \", 5))\n",
    "result = funct3(\"Good Bye !!! \",  3)\n",
    "print (result)"
   ]
  },
  {
   "cell_type": "code",
   "execution_count": 17,
   "id": "c7d97211-3b01-4f9f-b158-41f314d3a877",
   "metadata": {},
   "outputs": [
    {
     "name": "stdout",
     "output_type": "stream",
     "text": [
      "par1 = 100, par2 = 200 and par3 = 300\n",
      "par1 = 100, par2 = 200 and par3 = 333\n",
      "par1 = 100, par2 = 222 and par3 = 333\n",
      "par1 = 111, par2 = 222 and par3 = 333\n",
      "par1 = 100, par2 = 222 and par3 = 300\n",
      "par1 = 111, par2 = 200 and par3 = 300\n",
      "par1 = 111, par2 = 200 and par3 = 333\n"
     ]
    }
   ],
   "source": [
    "# function with default arguments\n",
    "def funct4(par1 = 111, par2 = 222, par3 = 333):\n",
    "    print(f\"par1 = {par1}, par2 = {par2} and par3 = {par3}\")\n",
    "    \n",
    "funct4(100, 200, 300)\n",
    "funct4(100, 200)\n",
    "funct4(100)\n",
    "funct4()\n",
    "funct4(par1 = 100, par3 = 300)\n",
    "funct4(par3 = 300, par2 = 200)\n",
    "funct4(par2 = 200)"
   ]
  },
  {
   "cell_type": "code",
   "execution_count": 20,
   "id": "de9e2687-7c79-4996-85d4-500296367094",
   "metadata": {},
   "outputs": [
    {
     "name": "stdout",
     "output_type": "stream",
     "text": [
      "300\n",
      "200\n"
     ]
    }
   ],
   "source": [
    "def funct5(num1, num2 = None):\n",
    "    if (num2 == None):\n",
    "    # if (num2 is None):\n",
    "        return 2 * num1\n",
    "    else:\n",
    "        return num1 + num2\n",
    "    \n",
    "print(funct5(100, 200))\n",
    "print(funct5(100))"
   ]
  },
  {
   "cell_type": "code",
   "execution_count": 24,
   "id": "51b6bf6c-3084-43a6-a5e7-f9efa8d52645",
   "metadata": {},
   "outputs": [
    {
     "name": "stdout",
     "output_type": "stream",
     "text": [
      "Total = 140, Difference = 60, Product = 4000 and Quotient = 2.5...\n",
      "(140, 60, 4000, 2.5) 4 <class 'tuple'>\n",
      "Total = 140, Difference = 60, Product = 4000 and Quotient = 2.5...\n"
     ]
    }
   ],
   "source": [
    "# function returning multiple arguments\n",
    "def funct6(num1, num2): \n",
    "    total = num1 + num2\n",
    "    difference = num1 - num2\n",
    "    product = num1 * num2\n",
    "    quotient = num1 / num2\n",
    "    return total, difference, product, quotient\n",
    "\n",
    "tt, dd, pp, qq = funct6(100, 40)\n",
    "print (f\"Total = {tt}, Difference = {dd}, Product = {pp} and Quotient = {qq}...\")\n",
    "result = funct6(100, 40)\n",
    "print (result, len(result), type(result))\n",
    "print (f\"Total = {result[0]}, Difference = {result[1]}, Product = {result[2]} and Quotient = {result[3]}...\")"
   ]
  },
  {
   "cell_type": "code",
   "execution_count": 25,
   "id": "e9fc21f6-a314-4c4d-b396-7624a32b9ebe",
   "metadata": {},
   "outputs": [
    {
     "name": "stdout",
     "output_type": "stream",
     "text": [
      "('Amitava', 'Developer', 65000) 3 <class 'tuple'> 2450160512640\n",
      "('Amitava', 'Developer', 65000, 'Pune') 4 <class 'tuple'> 2450160522224\n",
      "('Amitava', 'Developer', 65000, 'Pune', 'Masters') 5 <class 'tuple'> 2450160522544\n"
     ]
    }
   ],
   "source": [
    "# function with variable number of arguments\n",
    "def funct7(*arg):    # *arg means forcefully defining arg as a tuple type object\n",
    "    print (arg, len(arg), type(arg), id(arg))\n",
    "    \n",
    "funct7(\"Amitava\", \"Developer\", 65000)\n",
    "funct7(\"Amitava\", \"Developer\", 65000, \"Pune\")\n",
    "funct7(\"Amitava\", \"Developer\", 65000, \"Pune\", \"Masters\")"
   ]
  },
  {
   "cell_type": "code",
   "execution_count": 27,
   "id": "18b2feb5-3552-4957-ab2f-217f5f6521fd",
   "metadata": {},
   "outputs": [
    {
     "name": "stdout",
     "output_type": "stream",
     "text": [
      "{'name': 'Amitava', 'job': 'Developer', 'salary': 65000, 'location': 'Pune'} 4 <class 'dict'> 2450160289152\n",
      "{'name': 'Amitava', 'job': 'Developer', 'salary': 65000, 'location': 'Pune', 'qualification': 'ME'} 5 <class 'dict'> 2450160292352\n"
     ]
    }
   ],
   "source": [
    "# function with variable number of arguments\n",
    "def funct8(**kwarg):    # **kwarg means forcefully defining kwarg as a dictionary type key-word argument\n",
    "    print (kwarg, len(kwarg), type(kwarg), id(kwarg))\n",
    "    \n",
    "funct8(name = \"Amitava\", job = \"Developer\", salary = 65000, location = \"Pune\")\n",
    "funct8(name = \"Amitava\", job = \"Developer\", salary = 65000, location = \"Pune\", qualification=\"ME\")"
   ]
  },
  {
   "cell_type": "code",
   "execution_count": 29,
   "id": "f51ec864-7288-4afb-bee7-68a1007b6a91",
   "metadata": {},
   "outputs": [
    {
     "name": "stdout",
     "output_type": "stream",
     "text": [
      "('Amitava', 'Developer', 65000) 3 <class 'tuple'> 2450160213824\n",
      "{'location': 'Pune', 'qualification': 'Masters', 'hobby': 'drawing'} 3 <class 'dict'> 2450160416512\n",
      "\n",
      "('Amitava', 'Developer', 65000) 3 <class 'tuple'> 2450160512640\n",
      "{} 0 <class 'dict'> 2450160416576\n",
      "\n",
      "() 0 <class 'tuple'> 2450045157488\n",
      "{'location': 'Pune', 'qualification': 'Masters', 'hobby': 'drawing'} 3 <class 'dict'> 2450159880128\n"
     ]
    }
   ],
   "source": [
    "# function with variable number of arguments\n",
    "def funct9(*arg, **kwarg):\n",
    "    print (arg, len(arg), type(arg), id(arg))\n",
    "    print (kwarg, len(kwarg), type(kwarg), id(kwarg))\n",
    "    \n",
    "funct9(\"Amitava\", \"Developer\", 65000, location = \"Pune\", qualification = \"Masters\", hobby='drawing')\n",
    "print()\n",
    "funct9(\"Amitava\", \"Developer\", 65000)\n",
    "print()\n",
    "funct9(location = \"Pune\", qualification = \"Masters\", hobby = 'drawing')"
   ]
  },
  {
   "cell_type": "code",
   "execution_count": 30,
   "id": "066873cf-6873-4b17-b338-4d35508eb189",
   "metadata": {},
   "outputs": [
    {
     "name": "stdout",
     "output_type": "stream",
     "text": [
      "Executing for i = 1...\n",
      "Executing for i = 2...\n",
      "Executing for i = 3...\n",
      "Executing for i = 4...\n",
      "Executing for i = 5...\n",
      "So factorial of 5 is 120...\n"
     ]
    }
   ],
   "source": [
    "# non-recursive factorial calculating function\n",
    "# 5! = 1 * 2 * 3 * 4 * 5 = 5 * 4 * 3 * 2 * 1 = 120\n",
    "def factorial_nr(num):\n",
    "    if (num == 0 or num == 1): return 1\n",
    "    fact = 1\n",
    "    for i in range(1, num + 1):\n",
    "        print (f\"Executing for i = {i}...\")\n",
    "        fact *= i\n",
    "    return fact\n",
    "\n",
    "n = 5\n",
    "result = factorial_nr(n)\n",
    "print (f\"So factorial of {n} is {result}...\")"
   ]
  },
  {
   "cell_type": "code",
   "execution_count": 31,
   "id": "8f13ae31-90cc-43e7-bfec-b55989d3b00e",
   "metadata": {},
   "outputs": [
    {
     "name": "stdout",
     "output_type": "stream",
     "text": [
      "So factorial of 5 is 120...\n"
     ]
    }
   ],
   "source": [
    "# recursive factorial calculating function\n",
    "# 5! = 1 * 2 * 3 * 4 * 5 = 5 * 4 * 3 * 2 * 1 = 120 = 5 * 4!\n",
    "def factorial_r(num):\n",
    "    if (num == 0 or num == 1): return 1  # base case: for certain input values outputs are pre-known\n",
    "    return num * factorial_r(num - 1)    # reursive case: the function will call itself\n",
    "\n",
    "n = 5\n",
    "result = factorial_r(n)\n",
    "print (f\"So factorial of {n} is {result}...\")"
   ]
  },
  {
   "cell_type": "code",
   "execution_count": null,
   "id": "3ca6cf37-db3d-4e27-8fa1-b2a9fd979486",
   "metadata": {},
   "outputs": [],
   "source": [
    "5! = 5 * 4!\n",
    "         4 * 3!\n",
    "             3 * 2!\n",
    "                 2 * 1!\n",
    "                     1\n",
    "                 2\n",
    "             6\n",
    "         24\n",
    "     120"
   ]
  },
  {
   "cell_type": "markdown",
   "id": "2d99fe20-201c-41ac-aedf-dd8d50cea847",
   "metadata": {},
   "source": [
    "## **Lambda Function**\n",
    "\n",
    "> In Python programming, a lambda function is a small anonymous function that can have any number of arguments, but can only have one expression. The expression is evaluated and returned as the function result. Lambda functions are commonly used in combination with higher-order functions such as map(), filter(), and reduce().\n",
    "\n",
    "Some of the properties of lambda functions in Python programming include:\n",
    "* **Anonymous:** Lambda functions are anonymous, meaning they do not have a name like regular functions. They are defined using the keyword \"lambda\" followed by the arguments and the expression.\n",
    "* **Single Expression:** A lambda function can only contain a single expression that is evaluated and returned as the function result. This means that it cannot contain multiple statements or control flow structures.\n",
    "* **Concise:** Lambda functions are concise and can be defined in a single line of code. This makes them useful for defining simple functions on-the-fly.\n",
    "* **Immutable:** Lambda functions are immutable, meaning they cannot be modified once defined. This means that you cannot change the behavior of a lambda function after it has been defined.\n",
    "* **Higher-order Functions:** Lambda functions are often used in combination with higher-order functions such as map(), filter(), and reduce(). These functions take other functions as arguments and return new functions as results.\n",
    "* **Memory-efficient:** Lambda functions are memory-efficient since they are defined on-the-fly and do not require a separate function definition. This can be useful when working with large data sets or when memory usage is a concern.#### Lambda Function\n",
    "> In Python programming, a lambda function is a small anonymous function that can have any number of arguments, but can only have one expression. The expression is evaluated and returned as the function result. Lambda functions are commonly used in combination with higher-order functions such as map(), filter(), and reduce().\n",
    "\n",
    "Some of the properties of lambda functions in Python programming include:\n",
    "* **Anonymous:** Lambda functions are anonymous, meaning they do not have a name like regular functions. They are defined using the keyword \"lambda\" followed by the arguments and the expression.\n",
    "* **Single Expression:** A lambda function can only contain a single expression that is evaluated and returned as the function result. This means that it cannot contain multiple statements or control flow structures.\n",
    "* **Concise:** Lambda functions are concise and can be defined in a single line of code. This makes them useful for defining simple functions on-the-fly.\n",
    "* **Immutable:** Lambda functions are immutable, meaning they cannot be modified once defined. This means that you cannot change the behavior of a lambda function after it has been defined.\n",
    "* **Higher-order Functions:** Lambda functions are often used in combination with higher-order functions such as map(), filter(), and reduce(). These functions take other functions as arguments and return new functions as results.\n",
    "* **Memory-efficient:** Lambda functions are memory-efficient since they are defined on-the-fly and do not require a separate function definition. This can be useful when working with large data sets or when memory usage is a concern."
   ]
  },
  {
   "cell_type": "code",
   "execution_count": 37,
   "id": "7882db90-630f-46cf-a9c2-aa54afa5a1b1",
   "metadata": {},
   "outputs": [
    {
     "name": "stdout",
     "output_type": "stream",
     "text": [
      "<class 'function'>\n",
      "100\n",
      "121\n"
     ]
    }
   ],
   "source": [
    "# lambda function\n",
    "my_square = lambda num: num * num\n",
    "print (type(my_square))\n",
    "print (my_square(10))\n",
    "print (my_square(11))"
   ]
  },
  {
   "cell_type": "code",
   "execution_count": 40,
   "id": "d2795be1-d1e8-4c34-a743-c41d9eb7dd41",
   "metadata": {},
   "outputs": [
    {
     "name": "stdout",
     "output_type": "stream",
     "text": [
      "<class 'function'>\n",
      "500\n",
      "200\n"
     ]
    }
   ],
   "source": [
    "my_addition = lambda num1, num2: num1 + num2\n",
    "print (type(my_addition))\n",
    "print (my_addition(100, 400))\n",
    "print (my_addition(140, 60))"
   ]
  },
  {
   "cell_type": "code",
   "execution_count": 42,
   "id": "a60a7a7b-4c42-4858-8cf1-e62a0b482c1e",
   "metadata": {},
   "outputs": [
    {
     "name": "stdout",
     "output_type": "stream",
     "text": [
      "100 EVEN\n",
      "101 ODD\n"
     ]
    }
   ],
   "source": [
    "num = 100\n",
    "result = \"EVEN\" if (num % 2 == 0) else \"ODD\"\n",
    "print (num, result)\n",
    "\n",
    "num = 101\n",
    "result = \"EVEN\" if (num % 2 == 0) else \"ODD\"\n",
    "print (num, result)"
   ]
  },
  {
   "cell_type": "code",
   "execution_count": 43,
   "id": "386e958c-9c4a-4a4e-97d3-bd5c38386a4b",
   "metadata": {},
   "outputs": [
    {
     "name": "stdout",
     "output_type": "stream",
     "text": [
      "120\n"
     ]
    }
   ],
   "source": [
    "# recursive lambda function to calculate the factorial of a given integer\n",
    "factorial = lambda num: 1 if (num == 0 or num == 1) else num * factorial(num - 1)\n",
    "num = 5\n",
    "print (factorial(num))"
   ]
  },
  {
   "cell_type": "markdown",
   "id": "400d2e99-4d09-43e4-b4c7-18016b4d5e9b",
   "metadata": {},
   "source": [
    "## **Importing Modules**"
   ]
  },
  {
   "cell_type": "code",
   "execution_count": 44,
   "id": "439c9388-aad2-4e62-b145-f0cfe19bbbd1",
   "metadata": {},
   "outputs": [],
   "source": [
    "# importing the required module\n",
    "import math"
   ]
  },
  {
   "cell_type": "code",
   "execution_count": 60,
   "id": "e1219f39-49e6-4a31-a898-36a6b885c2ab",
   "metadata": {},
   "outputs": [
    {
     "name": "stdout",
     "output_type": "stream",
     "text": [
      "120\n",
      "2.302585092994046 2.302585092994046 2.0 2.0 10.0 10.0\n",
      "2.718281828459045 3.141592653589793 6.283185307179586\n",
      "20 200\n",
      "0.0 1.0 0.0\n",
      "0.0 1.5707963267948966 0.0\n"
     ]
    }
   ],
   "source": [
    "print (math.factorial(5))\n",
    "print (math.log(10), math.log(10, math.e), math.log(100, 10), math.log10(100), math.log2(1024), math.log(1024, 2))\n",
    "print (math.e, math.pi, math.tau)\n",
    "print (math.gcd(100, 40), math.lcm(100, 40))\n",
    "print (math.sin(0), math.cos(0), math.tan(0))\n",
    "print (math.asin(0), math.acos(0), math.atan(0))"
   ]
  },
  {
   "cell_type": "code",
   "execution_count": 64,
   "id": "fb11d0e5-f41d-4280-b79a-affd3d7e5b4d",
   "metadata": {},
   "outputs": [
    {
     "name": "stdout",
     "output_type": "stream",
     "text": [
      "10.04987562112089\n",
      "10.04987562112089\n"
     ]
    }
   ],
   "source": [
    "print (math.dist((10, 5), (20, 4)))    # Euclidean distance\n",
    "# (x1, y1) and (x2, y2), Euclidean distance is ((x1 - y1)^2 + (x2 - y2)^2)^0.5\n",
    "print (((10 - 20) ** 2 + (5 - 4) ** 2) ** 0.5)"
   ]
  },
  {
   "cell_type": "code",
   "execution_count": 67,
   "id": "6d74a419-d635-4de3-a0ec-ffc83eb23609",
   "metadata": {},
   "outputs": [
    {
     "name": "stdout",
     "output_type": "stream",
     "text": [
      "100 100.0 100.0\n"
     ]
    }
   ],
   "source": [
    "print (10 ** 2, 10.0 ** 2, math.pow(10, 2))"
   ]
  },
  {
   "cell_type": "code",
   "execution_count": 65,
   "id": "c4b706d4-f3da-4515-a73c-b8bcd1bbe36c",
   "metadata": {
    "scrolled": true,
    "tags": []
   },
   "outputs": [
    {
     "name": "stdout",
     "output_type": "stream",
     "text": [
      "Help on built-in module math:\n",
      "\n",
      "NAME\n",
      "    math\n",
      "\n",
      "DESCRIPTION\n",
      "    This module provides access to the mathematical functions\n",
      "    defined by the C standard.\n",
      "\n",
      "FUNCTIONS\n",
      "    acos(x, /)\n",
      "        Return the arc cosine (measured in radians) of x.\n",
      "        \n",
      "        The result is between 0 and pi.\n",
      "    \n",
      "    acosh(x, /)\n",
      "        Return the inverse hyperbolic cosine of x.\n",
      "    \n",
      "    asin(x, /)\n",
      "        Return the arc sine (measured in radians) of x.\n",
      "        \n",
      "        The result is between -pi/2 and pi/2.\n",
      "    \n",
      "    asinh(x, /)\n",
      "        Return the inverse hyperbolic sine of x.\n",
      "    \n",
      "    atan(x, /)\n",
      "        Return the arc tangent (measured in radians) of x.\n",
      "        \n",
      "        The result is between -pi/2 and pi/2.\n",
      "    \n",
      "    atan2(y, x, /)\n",
      "        Return the arc tangent (measured in radians) of y/x.\n",
      "        \n",
      "        Unlike atan(y/x), the signs of both x and y are considered.\n",
      "    \n",
      "    atanh(x, /)\n",
      "        Return the inverse hyperbolic tangent of x.\n",
      "    \n",
      "    ceil(x, /)\n",
      "        Return the ceiling of x as an Integral.\n",
      "        \n",
      "        This is the smallest integer >= x.\n",
      "    \n",
      "    comb(n, k, /)\n",
      "        Number of ways to choose k items from n items without repetition and without order.\n",
      "        \n",
      "        Evaluates to n! / (k! * (n - k)!) when k <= n and evaluates\n",
      "        to zero when k > n.\n",
      "        \n",
      "        Also called the binomial coefficient because it is equivalent\n",
      "        to the coefficient of k-th term in polynomial expansion of the\n",
      "        expression (1 + x)**n.\n",
      "        \n",
      "        Raises TypeError if either of the arguments are not integers.\n",
      "        Raises ValueError if either of the arguments are negative.\n",
      "    \n",
      "    copysign(x, y, /)\n",
      "        Return a float with the magnitude (absolute value) of x but the sign of y.\n",
      "        \n",
      "        On platforms that support signed zeros, copysign(1.0, -0.0)\n",
      "        returns -1.0.\n",
      "    \n",
      "    cos(x, /)\n",
      "        Return the cosine of x (measured in radians).\n",
      "    \n",
      "    cosh(x, /)\n",
      "        Return the hyperbolic cosine of x.\n",
      "    \n",
      "    degrees(x, /)\n",
      "        Convert angle x from radians to degrees.\n",
      "    \n",
      "    dist(p, q, /)\n",
      "        Return the Euclidean distance between two points p and q.\n",
      "        \n",
      "        The points should be specified as sequences (or iterables) of\n",
      "        coordinates.  Both inputs must have the same dimension.\n",
      "        \n",
      "        Roughly equivalent to:\n",
      "            sqrt(sum((px - qx) ** 2.0 for px, qx in zip(p, q)))\n",
      "    \n",
      "    erf(x, /)\n",
      "        Error function at x.\n",
      "    \n",
      "    erfc(x, /)\n",
      "        Complementary error function at x.\n",
      "    \n",
      "    exp(x, /)\n",
      "        Return e raised to the power of x.\n",
      "    \n",
      "    expm1(x, /)\n",
      "        Return exp(x)-1.\n",
      "        \n",
      "        This function avoids the loss of precision involved in the direct evaluation of exp(x)-1 for small x.\n",
      "    \n",
      "    fabs(x, /)\n",
      "        Return the absolute value of the float x.\n",
      "    \n",
      "    factorial(x, /)\n",
      "        Find x!.\n",
      "        \n",
      "        Raise a ValueError if x is negative or non-integral.\n",
      "    \n",
      "    floor(x, /)\n",
      "        Return the floor of x as an Integral.\n",
      "        \n",
      "        This is the largest integer <= x.\n",
      "    \n",
      "    fmod(x, y, /)\n",
      "        Return fmod(x, y), according to platform C.\n",
      "        \n",
      "        x % y may differ.\n",
      "    \n",
      "    frexp(x, /)\n",
      "        Return the mantissa and exponent of x, as pair (m, e).\n",
      "        \n",
      "        m is a float and e is an int, such that x = m * 2.**e.\n",
      "        If x is 0, m and e are both 0.  Else 0.5 <= abs(m) < 1.0.\n",
      "    \n",
      "    fsum(seq, /)\n",
      "        Return an accurate floating point sum of values in the iterable seq.\n",
      "        \n",
      "        Assumes IEEE-754 floating point arithmetic.\n",
      "    \n",
      "    gamma(x, /)\n",
      "        Gamma function at x.\n",
      "    \n",
      "    gcd(*integers)\n",
      "        Greatest Common Divisor.\n",
      "    \n",
      "    hypot(...)\n",
      "        hypot(*coordinates) -> value\n",
      "        \n",
      "        Multidimensional Euclidean distance from the origin to a point.\n",
      "        \n",
      "        Roughly equivalent to:\n",
      "            sqrt(sum(x**2 for x in coordinates))\n",
      "        \n",
      "        For a two dimensional point (x, y), gives the hypotenuse\n",
      "        using the Pythagorean theorem:  sqrt(x*x + y*y).\n",
      "        \n",
      "        For example, the hypotenuse of a 3/4/5 right triangle is:\n",
      "        \n",
      "            >>> hypot(3.0, 4.0)\n",
      "            5.0\n",
      "    \n",
      "    isclose(a, b, *, rel_tol=1e-09, abs_tol=0.0)\n",
      "        Determine whether two floating point numbers are close in value.\n",
      "        \n",
      "          rel_tol\n",
      "            maximum difference for being considered \"close\", relative to the\n",
      "            magnitude of the input values\n",
      "          abs_tol\n",
      "            maximum difference for being considered \"close\", regardless of the\n",
      "            magnitude of the input values\n",
      "        \n",
      "        Return True if a is close in value to b, and False otherwise.\n",
      "        \n",
      "        For the values to be considered close, the difference between them\n",
      "        must be smaller than at least one of the tolerances.\n",
      "        \n",
      "        -inf, inf and NaN behave similarly to the IEEE 754 Standard.  That\n",
      "        is, NaN is not close to anything, even itself.  inf and -inf are\n",
      "        only close to themselves.\n",
      "    \n",
      "    isfinite(x, /)\n",
      "        Return True if x is neither an infinity nor a NaN, and False otherwise.\n",
      "    \n",
      "    isinf(x, /)\n",
      "        Return True if x is a positive or negative infinity, and False otherwise.\n",
      "    \n",
      "    isnan(x, /)\n",
      "        Return True if x is a NaN (not a number), and False otherwise.\n",
      "    \n",
      "    isqrt(n, /)\n",
      "        Return the integer part of the square root of the input.\n",
      "    \n",
      "    lcm(*integers)\n",
      "        Least Common Multiple.\n",
      "    \n",
      "    ldexp(x, i, /)\n",
      "        Return x * (2**i).\n",
      "        \n",
      "        This is essentially the inverse of frexp().\n",
      "    \n",
      "    lgamma(x, /)\n",
      "        Natural logarithm of absolute value of Gamma function at x.\n",
      "    \n",
      "    log(...)\n",
      "        log(x, [base=math.e])\n",
      "        Return the logarithm of x to the given base.\n",
      "        \n",
      "        If the base not specified, returns the natural logarithm (base e) of x.\n",
      "    \n",
      "    log10(x, /)\n",
      "        Return the base 10 logarithm of x.\n",
      "    \n",
      "    log1p(x, /)\n",
      "        Return the natural logarithm of 1+x (base e).\n",
      "        \n",
      "        The result is computed in a way which is accurate for x near zero.\n",
      "    \n",
      "    log2(x, /)\n",
      "        Return the base 2 logarithm of x.\n",
      "    \n",
      "    modf(x, /)\n",
      "        Return the fractional and integer parts of x.\n",
      "        \n",
      "        Both results carry the sign of x and are floats.\n",
      "    \n",
      "    nextafter(x, y, /)\n",
      "        Return the next floating-point value after x towards y.\n",
      "    \n",
      "    perm(n, k=None, /)\n",
      "        Number of ways to choose k items from n items without repetition and with order.\n",
      "        \n",
      "        Evaluates to n! / (n - k)! when k <= n and evaluates\n",
      "        to zero when k > n.\n",
      "        \n",
      "        If k is not specified or is None, then k defaults to n\n",
      "        and the function returns n!.\n",
      "        \n",
      "        Raises TypeError if either of the arguments are not integers.\n",
      "        Raises ValueError if either of the arguments are negative.\n",
      "    \n",
      "    pow(x, y, /)\n",
      "        Return x**y (x to the power of y).\n",
      "    \n",
      "    prod(iterable, /, *, start=1)\n",
      "        Calculate the product of all the elements in the input iterable.\n",
      "        \n",
      "        The default start value for the product is 1.\n",
      "        \n",
      "        When the iterable is empty, return the start value.  This function is\n",
      "        intended specifically for use with numeric values and may reject\n",
      "        non-numeric types.\n",
      "    \n",
      "    radians(x, /)\n",
      "        Convert angle x from degrees to radians.\n",
      "    \n",
      "    remainder(x, y, /)\n",
      "        Difference between x and the closest integer multiple of y.\n",
      "        \n",
      "        Return x - n*y where n*y is the closest integer multiple of y.\n",
      "        In the case where x is exactly halfway between two multiples of\n",
      "        y, the nearest even value of n is used. The result is always exact.\n",
      "    \n",
      "    sin(x, /)\n",
      "        Return the sine of x (measured in radians).\n",
      "    \n",
      "    sinh(x, /)\n",
      "        Return the hyperbolic sine of x.\n",
      "    \n",
      "    sqrt(x, /)\n",
      "        Return the square root of x.\n",
      "    \n",
      "    tan(x, /)\n",
      "        Return the tangent of x (measured in radians).\n",
      "    \n",
      "    tanh(x, /)\n",
      "        Return the hyperbolic tangent of x.\n",
      "    \n",
      "    trunc(x, /)\n",
      "        Truncates the Real x to the nearest Integral toward 0.\n",
      "        \n",
      "        Uses the __trunc__ magic method.\n",
      "    \n",
      "    ulp(x, /)\n",
      "        Return the value of the least significant bit of the float x.\n",
      "\n",
      "DATA\n",
      "    e = 2.718281828459045\n",
      "    inf = inf\n",
      "    nan = nan\n",
      "    pi = 3.141592653589793\n",
      "    tau = 6.283185307179586\n",
      "\n",
      "FILE\n",
      "    (built-in)\n",
      "\n",
      "\n"
     ]
    }
   ],
   "source": [
    "help(math)"
   ]
  },
  {
   "cell_type": "markdown",
   "id": "acb378d3-7f41-44c9-bf7e-c22e4b277b30",
   "metadata": {},
   "source": [
    "## **Day-4**"
   ]
  },
  {
   "cell_type": "markdown",
   "id": "7bfd4297-5d86-4e8d-ac9a-f2b29896aa0c",
   "metadata": {},
   "source": [
    "## **String Processing**"
   ]
  },
  {
   "cell_type": "code",
   "execution_count": null,
   "id": "985c69be-f042-4b59-a4ea-a35fa146f65e",
   "metadata": {},
   "outputs": [],
   "source": [
    "index left to right ->  0   1   2   3   4   5   6   7   8   9\n",
    "               mystr =  u   n   i   v   e   r   s   i   t   y\n",
    "index right to left ->-10  -9  -8  -7  -6  -5  -4  -3  -2  -1 "
   ]
  },
  {
   "cell_type": "code",
   "execution_count": 1,
   "id": "42c72490-cb72-4366-9f62-d5ce331c3be7",
   "metadata": {},
   "outputs": [
    {
     "name": "stdout",
     "output_type": "stream",
     "text": [
      "university 10 <class 'str'> 1738296285104\n",
      "v v i i r r\n",
      "niversi niversi niversi niversi ytisrevinu\n"
     ]
    }
   ],
   "source": [
    "mystr = \"university\"\n",
    "print (mystr, len(mystr), type(mystr), id(mystr))\n",
    "print (mystr[3], mystr[-7], mystr[7], mystr[-3], mystr[5], mystr[-5]) # indexing\n",
    "print (mystr[1:8], mystr[-9:-2], mystr[1:-2], mystr[-9:8], mystr[::-1]) # slicing or sub-string retrieval"
   ]
  },
  {
   "cell_type": "code",
   "execution_count": 2,
   "id": "5872d02d-1073-4d4a-afe5-19d62de9f68e",
   "metadata": {},
   "outputs": [
    {
     "name": "stdout",
     "output_type": "stream",
     "text": [
      "caLCuTTa unIVerSitY 19 <class 'str'> 1738296559056\n",
      "CALCUTTA UNIVERSITY\n",
      "calcutta university\n",
      "Calcutta University\n",
      "Calcutta university\n",
      "CAlcUttA UNivERsITy\n",
      "          caLCuTTa unIVerSitY           \n",
      "               CALCUTTA UNIVERSITY                \n"
     ]
    }
   ],
   "source": [
    "mystr = \"caLCuTTa unIVerSitY\"\n",
    "print (mystr, len(mystr), type(mystr), id(mystr))\n",
    "print (mystr.upper())\n",
    "print (mystr.lower())\n",
    "print (mystr.title())\n",
    "print (mystr.capitalize())\n",
    "print (mystr.swapcase())\n",
    "print (mystr.center(40))\n",
    "print (mystr.upper().center(50))"
   ]
  },
  {
   "cell_type": "code",
   "execution_count": 5,
   "id": "f5967c71-7f9f-456c-b2e5-62e30e83db42",
   "metadata": {},
   "outputs": [
    {
     "name": "stdout",
     "output_type": "stream",
     "text": [
      "4\n",
      "4\n",
      "11\n",
      "11\n",
      "-1\n"
     ]
    }
   ],
   "source": [
    "mystr = \"charity begins at home\"\n",
    "print (mystr.find(\"ity\"))\n",
    "print (mystr.find(\"i\", 3))\n",
    "print (mystr.find(\"i\", 5))\n",
    "print (mystr.find(\"ins\", 11, 14))\n",
    "print (mystr.find(\"ins\", 11, 13))"
   ]
  },
  {
   "cell_type": "code",
   "execution_count": 6,
   "id": "e86df2d8-3b43-49da-a956-d59deb2d281f",
   "metadata": {},
   "outputs": [
    {
     "name": "stdout",
     "output_type": "stream",
     "text": [
      "4\n",
      "4\n",
      "11\n",
      "11\n"
     ]
    },
    {
     "ename": "ValueError",
     "evalue": "substring not found",
     "output_type": "error",
     "traceback": [
      "\u001b[1;31m---------------------------------------------------------------------------\u001b[0m",
      "\u001b[1;31mValueError\u001b[0m                                Traceback (most recent call last)",
      "Cell \u001b[1;32mIn[6], line 6\u001b[0m\n\u001b[0;32m      4\u001b[0m \u001b[38;5;28mprint\u001b[39m (mystr\u001b[38;5;241m.\u001b[39mindex(\u001b[38;5;124m\"\u001b[39m\u001b[38;5;124mi\u001b[39m\u001b[38;5;124m\"\u001b[39m, \u001b[38;5;241m5\u001b[39m))\n\u001b[0;32m      5\u001b[0m \u001b[38;5;28mprint\u001b[39m (mystr\u001b[38;5;241m.\u001b[39mindex(\u001b[38;5;124m\"\u001b[39m\u001b[38;5;124mins\u001b[39m\u001b[38;5;124m\"\u001b[39m, \u001b[38;5;241m11\u001b[39m, \u001b[38;5;241m14\u001b[39m))\n\u001b[1;32m----> 6\u001b[0m \u001b[38;5;28mprint\u001b[39m (\u001b[43mmystr\u001b[49m\u001b[38;5;241;43m.\u001b[39;49m\u001b[43mindex\u001b[49m\u001b[43m(\u001b[49m\u001b[38;5;124;43m\"\u001b[39;49m\u001b[38;5;124;43mins\u001b[39;49m\u001b[38;5;124;43m\"\u001b[39;49m\u001b[43m,\u001b[49m\u001b[43m \u001b[49m\u001b[38;5;241;43m11\u001b[39;49m\u001b[43m,\u001b[49m\u001b[43m \u001b[49m\u001b[38;5;241;43m13\u001b[39;49m\u001b[43m)\u001b[49m)\n",
      "\u001b[1;31mValueError\u001b[0m: substring not found"
     ]
    }
   ],
   "source": [
    "mystr = \"charity begins at home\"\n",
    "print (mystr.index(\"ity\"))\n",
    "print (mystr.index(\"i\", 3))\n",
    "print (mystr.index(\"i\", 5))\n",
    "print (mystr.index(\"ins\", 11, 14))\n",
    "print (mystr.index(\"ins\", 11, 13))"
   ]
  },
  {
   "cell_type": "code",
   "execution_count": 9,
   "id": "450e02c2-32e6-417f-ad46-ea1295aa6d51",
   "metadata": {},
   "outputs": [
    {
     "name": "stdout",
     "output_type": "stream",
     "text": [
      "    calcutta    university      31 <class 'str'> 1738317159584\n",
      "calcutta    university 22\n",
      "calcutta    university      27\n",
      "    calcutta    university 26\n",
      "calcutta    university 22\n",
      "calcutta    university      27\n",
      "    calcutta    university 26\n"
     ]
    }
   ],
   "source": [
    "mystr = \"    calcutta    university     \"\n",
    "print (mystr, len(mystr), type(mystr), id(mystr))\n",
    "print (mystr.strip(), len(mystr.strip()))\n",
    "print (mystr.lstrip(), len(mystr.lstrip()))\n",
    "print (mystr.rstrip(), len(mystr.rstrip()))\n",
    "print (mystr.strip(\" \"), len(mystr.strip(\" \")))\n",
    "print (mystr.lstrip(\" \"), len(mystr.lstrip(\" \")))\n",
    "print (mystr.rstrip(\" \"), len(mystr.rstrip(\" \")))"
   ]
  },
  {
   "cell_type": "code",
   "execution_count": 10,
   "id": "2e0f3b89-f5f9-432d-b15c-7ecec8e86109",
   "metadata": {},
   "outputs": [
    {
     "name": "stdout",
     "output_type": "stream",
     "text": [
      "##@@calcutta#@#@university#@@@# 31 <class 'str'> 1738296876912\n",
      "calcutta#@#@university 22\n",
      "calcutta#@#@university#@@@# 27\n",
      "##@@calcutta#@#@university 26\n"
     ]
    }
   ],
   "source": [
    "mystr = \"##@@calcutta#@#@university#@@@#\"\n",
    "print (mystr, len(mystr), type(mystr), id(mystr))\n",
    "print (mystr.strip(\"#@\"), len(mystr.strip(\"#@\")))\n",
    "print (mystr.lstrip(\"#@\"), len(mystr.lstrip(\"#@\")))\n",
    "print (mystr.rstrip(\"#@\"), len(mystr.rstrip(\"#@\")))"
   ]
  },
  {
   "cell_type": "code",
   "execution_count": 13,
   "id": "b2ccd9a3-b1c5-47d5-9d8b-2c03f2923e40",
   "metadata": {},
   "outputs": [
    {
     "name": "stdout",
     "output_type": "stream",
     "text": [
      "True\n",
      "False\n",
      "True\n",
      "True\n",
      "True\n",
      "False\n",
      "True\n"
     ]
    }
   ],
   "source": [
    "mystr = \"charity begins at home\"\n",
    "print (mystr.startswith(\"cha\"))\n",
    "print (mystr.startswith(\"beg\"))\n",
    "print (mystr.startswith(\"beg\", 8))\n",
    "print (mystr.startswith(\"beg\", 8, 20))\n",
    "print (mystr.endswith(\"ome\"))\n",
    "print (mystr.endswith(\"gins\"))\n",
    "print (mystr.endswith(\"gins\", 0, 14))"
   ]
  },
  {
   "cell_type": "code",
   "execution_count": 17,
   "id": "79722b43-8fd7-4128-b171-c25605da95ae",
   "metadata": {},
   "outputs": [
    {
     "name": "stdout",
     "output_type": "stream",
     "text": [
      "s\n",
      "c\n",
      "h\n",
      "o\n",
      "o\n",
      "l\n"
     ]
    }
   ],
   "source": [
    "mystr = \"school\"    # Reading character by character from a string\n",
    "for ch in mystr:\n",
    "    print (ch)"
   ]
  },
  {
   "cell_type": "code",
   "execution_count": 16,
   "id": "4738cbe9-a007-44b4-9d38-dda0a57f8c33",
   "metadata": {},
   "outputs": [
    {
     "name": "stdout",
     "output_type": "stream",
     "text": [
      "s\n",
      "c\n",
      "h\n",
      "o\n",
      "o\n",
      "l\n"
     ]
    }
   ],
   "source": [
    "mystr = \"school\"    # Reading character by character from a string\n",
    "for i in range(len(mystr)):\n",
    "    print (mystr[i])"
   ]
  },
  {
   "cell_type": "code",
   "execution_count": 18,
   "id": "4aa72c7a-d784-44fd-abad-66823b9b43b7",
   "metadata": {},
   "outputs": [
    {
     "name": "stdout",
     "output_type": "stream",
     "text": [
      "charity begins at home 22 <class 'str'> 1738296557616\n",
      "['charity', 'begins', 'at', 'home']\n",
      "['charity', 'begins', 'at', 'home']\n",
      "['char', 'ty beg', 'ns at home']\n"
     ]
    }
   ],
   "source": [
    "mystr = \"charity begins at home\"\n",
    "print (mystr, len(mystr), type(mystr), id(mystr))\n",
    "list1 = mystr.split()\n",
    "print (list1)\n",
    "list1 = mystr.split(\" \")\n",
    "print (list1)\n",
    "list1 = mystr.split(\"i\")\n",
    "print (list1)"
   ]
  },
  {
   "cell_type": "code",
   "execution_count": 19,
   "id": "2e0cfa9d-8958-4a88-814c-0203a19adfec",
   "metadata": {},
   "outputs": [
    {
     "name": "stdin",
     "output_type": "stream",
     "text": [
      "Enter your all numbers:  11 33 22 55 44 66 77 88\n"
     ]
    },
    {
     "name": "stdout",
     "output_type": "stream",
     "text": [
      "[11, 33, 22, 55, 44, 66, 77, 88]\n"
     ]
    }
   ],
   "source": [
    "list_num = [int(x) for x in input(\"Enter your all numbers: \").split()]\n",
    "print (list_num)"
   ]
  },
  {
   "cell_type": "code",
   "execution_count": 20,
   "id": "4a055083-ddf2-48e4-a618-41ba6ce66937",
   "metadata": {},
   "outputs": [
    {
     "name": "stdout",
     "output_type": "stream",
     "text": [
      "['charity', 'begins', 'at', 'home'] 4 <class 'list'> 1738339689664\n",
      "charity begins at home\n",
      "charity - begins - at - home\n",
      "charity, begins, at, home\n"
     ]
    }
   ],
   "source": [
    "list1 = ['charity', 'begins', 'at', 'home']\n",
    "print (list1, len(list1), type(list1), id(list1))\n",
    "mystr = \" \".join(list1)\n",
    "print (mystr)\n",
    "mystr = \" - \".join(list1)\n",
    "print (mystr)\n",
    "mystr = \", \".join(list1)\n",
    "print (mystr)"
   ]
  },
  {
   "cell_type": "code",
   "execution_count": 23,
   "id": "42030faf-d9a0-4330-a834-145993bc9b94",
   "metadata": {},
   "outputs": [
    {
     "name": "stdout",
     "output_type": "stream",
     "text": [
      "2 1 0\n",
      "unxversxty\n",
      "university\n",
      "unxversxty\n"
     ]
    }
   ],
   "source": [
    "mystr = \"university\"\n",
    "print (mystr.count(\"i\"), mystr.count(\"v\"), mystr.count(\"I\"))\n",
    "print (mystr.replace(\"i\", \"x\"))\n",
    "print (mystr)\n",
    "mystr = mystr.replace(\"i\", \"x\")\n",
    "print (mystr)"
   ]
  },
  {
   "cell_type": "code",
   "execution_count": 25,
   "id": "3bc2ff3d-499e-4cc1-96e0-113fca07a87d",
   "metadata": {},
   "outputs": [
    {
     "name": "stdout",
     "output_type": "stream",
     "text": [
      "mississippi <class 'str'>\n",
      "['m', 'i', 's', 's', 'i', 's', 's', 'i', 'p', 'p', 'i']\n",
      "('m', 'i', 's', 's', 'i', 's', 's', 'i', 'p', 'p', 'i')\n",
      "{'s', 'p', 'i', 'm'}\n",
      "frozenset({'s', 'p', 'i', 'm'})\n"
     ]
    }
   ],
   "source": [
    "mystr = \"mississippi\"\n",
    "print (mystr, type(mystr))\n",
    "print (list(mystr))\n",
    "print (tuple(mystr))\n",
    "print (set(mystr))\n",
    "print (frozenset(mystr))"
   ]
  },
  {
   "cell_type": "code",
   "execution_count": null,
   "id": "b9e172ab-df81-4c24-bc6b-63084b3f4d6b",
   "metadata": {},
   "outputs": [],
   "source": [
    "help(str)"
   ]
  },
  {
   "cell_type": "markdown",
   "id": "a96f32d7-145d-48ad-b248-ece89b343ad1",
   "metadata": {},
   "source": [
    "## **List Processing**"
   ]
  },
  {
   "cell_type": "code",
   "execution_count": 27,
   "id": "8bed385e-3c51-41d6-82fd-9bc914a7e903",
   "metadata": {},
   "outputs": [
    {
     "name": "stdout",
     "output_type": "stream",
     "text": [
      "[100, 400, 300, 200, 700] 5 <class 'list'> 1738328541632\n",
      "700 100\n",
      "1700 340.0\n"
     ]
    }
   ],
   "source": [
    "list1 = [100, 400, 300, 200, 700]\n",
    "print (list1, len(list1), type(list1), id(list1))\n",
    "print (max(list1), min(list1))\n",
    "print (sum(list1), sum(list1) / len(list1))"
   ]
  },
  {
   "cell_type": "code",
   "execution_count": 29,
   "id": "e9df8583-88d3-4405-9a65-67de66254e1a",
   "metadata": {},
   "outputs": [
    {
     "name": "stdout",
     "output_type": "stream",
     "text": [
      "[100, 400, True, 300, 200, False, 700] 7 <class 'list'> 1738339682688\n",
      "700 False\n",
      "1701 243.0\n"
     ]
    }
   ],
   "source": [
    "list1 = [100, 400, True, 300, 200, False, 700]\n",
    "print (list1, len(list1), type(list1), id(list1))\n",
    "print (max(list1), min(list1))\n",
    "print (sum(list1), sum(list1) / len(list1))"
   ]
  },
  {
   "cell_type": "code",
   "execution_count": 33,
   "id": "58aca37c-0281-42f3-bcbf-41f9d949c9f0",
   "metadata": {},
   "outputs": [
    {
     "name": "stdout",
     "output_type": "stream",
     "text": [
      "['sunday', 'monday', 'friday', 'Saturday', 'tuesday'] 5 <class 'list'> 1738330424384\n",
      "tuesday Saturday\n"
     ]
    },
    {
     "ename": "TypeError",
     "evalue": "unsupported operand type(s) for +: 'int' and 'str'",
     "output_type": "error",
     "traceback": [
      "\u001b[1;31m---------------------------------------------------------------------------\u001b[0m",
      "\u001b[1;31mTypeError\u001b[0m                                 Traceback (most recent call last)",
      "Cell \u001b[1;32mIn[33], line 4\u001b[0m\n\u001b[0;32m      2\u001b[0m \u001b[38;5;28mprint\u001b[39m (list1, \u001b[38;5;28mlen\u001b[39m(list1), \u001b[38;5;28mtype\u001b[39m(list1), \u001b[38;5;28mid\u001b[39m(list1))\n\u001b[0;32m      3\u001b[0m \u001b[38;5;28mprint\u001b[39m (\u001b[38;5;28mmax\u001b[39m(list1), \u001b[38;5;28mmin\u001b[39m(list1))\n\u001b[1;32m----> 4\u001b[0m \u001b[38;5;28mprint\u001b[39m (\u001b[38;5;28;43msum\u001b[39;49m\u001b[43m(\u001b[49m\u001b[43mlist1\u001b[49m\u001b[43m)\u001b[49m, \u001b[38;5;28msum\u001b[39m(list1) \u001b[38;5;241m/\u001b[39m \u001b[38;5;28mlen\u001b[39m(list1))\n",
      "\u001b[1;31mTypeError\u001b[0m: unsupported operand type(s) for +: 'int' and 'str'"
     ]
    }
   ],
   "source": [
    "list1 = [\"sunday\", \"monday\", 'friday', 'Saturday', 'tuesday']\n",
    "print (list1, len(list1), type(list1), id(list1))\n",
    "print (max(list1), min(list1))\n",
    "print (sum(list1), sum(list1) / len(list1))"
   ]
  },
  {
   "cell_type": "code",
   "execution_count": 34,
   "id": "bbeb1b7e-a71c-45cb-b90d-458294cfd859",
   "metadata": {},
   "outputs": [
    {
     "name": "stdout",
     "output_type": "stream",
     "text": [
      "[100, 400, True, 'Tuesday', 300, 'Wednesday', 200, False, 700] 9 <class 'list'> 1738330548416\n"
     ]
    },
    {
     "ename": "TypeError",
     "evalue": "'>' not supported between instances of 'str' and 'int'",
     "output_type": "error",
     "traceback": [
      "\u001b[1;31m---------------------------------------------------------------------------\u001b[0m",
      "\u001b[1;31mTypeError\u001b[0m                                 Traceback (most recent call last)",
      "Cell \u001b[1;32mIn[34], line 3\u001b[0m\n\u001b[0;32m      1\u001b[0m list1 \u001b[38;5;241m=\u001b[39m [\u001b[38;5;241m100\u001b[39m, \u001b[38;5;241m400\u001b[39m, \u001b[38;5;28;01mTrue\u001b[39;00m, \u001b[38;5;124m\"\u001b[39m\u001b[38;5;124mTuesday\u001b[39m\u001b[38;5;124m\"\u001b[39m, \u001b[38;5;241m300\u001b[39m, \u001b[38;5;124m\"\u001b[39m\u001b[38;5;124mWednesday\u001b[39m\u001b[38;5;124m\"\u001b[39m, \u001b[38;5;241m200\u001b[39m, \u001b[38;5;28;01mFalse\u001b[39;00m, \u001b[38;5;241m700\u001b[39m]\n\u001b[0;32m      2\u001b[0m \u001b[38;5;28mprint\u001b[39m (list1, \u001b[38;5;28mlen\u001b[39m(list1), \u001b[38;5;28mtype\u001b[39m(list1), \u001b[38;5;28mid\u001b[39m(list1))\n\u001b[1;32m----> 3\u001b[0m \u001b[38;5;28mprint\u001b[39m (\u001b[38;5;28;43mmax\u001b[39;49m\u001b[43m(\u001b[49m\u001b[43mlist1\u001b[49m\u001b[43m)\u001b[49m, \u001b[38;5;28mmin\u001b[39m(list1))\n\u001b[0;32m      4\u001b[0m \u001b[38;5;28mprint\u001b[39m (\u001b[38;5;28msum\u001b[39m(list1), \u001b[38;5;28msum\u001b[39m(list1) \u001b[38;5;241m/\u001b[39m \u001b[38;5;28mlen\u001b[39m(list1))\n",
      "\u001b[1;31mTypeError\u001b[0m: '>' not supported between instances of 'str' and 'int'"
     ]
    }
   ],
   "source": [
    "list1 = [100, 400, True, \"Tuesday\", 300, \"Wednesday\", 200, False, 700]\n",
    "print (list1, len(list1), type(list1), id(list1))\n",
    "print (max(list1), min(list1))\n",
    "print (sum(list1), sum(list1) / len(list1))"
   ]
  },
  {
   "cell_type": "code",
   "execution_count": 73,
   "id": "7b2342e6-8fe7-4c94-bc7a-c89c56bf1f57",
   "metadata": {},
   "outputs": [
    {
     "name": "stdout",
     "output_type": "stream",
     "text": [
      "['Monday', 'Tuesday', 'Wednesday', 'Thursday', 'Friday'] 5 <class 'list'> 1738331692736\n",
      "Wednesday Wednesday Thursday Thursday\n",
      "nes nes\n"
     ]
    }
   ],
   "source": [
    "# Indexing and slicing\n",
    "# L ro R ->   0         1          2            3           4\n",
    "tuple1 =    (\"Monday\", \"Tuesday\", \"Wednesday\", \"Thursday\", \"Friday\")\n",
    "# R to L ->  -5        -4         -3           -2          -1\n",
    "print (tuple1, len(tuple1), type(tuple1), id(tuple1))\n",
    "print (tuple1[2], tuple1[-3], tuple1[3], tuple1[-2])\n",
    "print (tuple1[2][3:6], tuple1[-3][-6:-3])"
   ]
  },
  {
   "cell_type": "code",
   "execution_count": 40,
   "id": "bcff41fd-ed58-47f1-a211-9d6b3fb058c6",
   "metadata": {},
   "outputs": [
    {
     "name": "stdout",
     "output_type": "stream",
     "text": [
      "['Monday', 'Tuesday', 'Wednesday', 'Thursday', 'Friday'] 5\n",
      "['Mango', 'Pineapple', 'Guava', 'Lime'] 4\n",
      "['Monday', 'Tuesday', 'Wednesday', 'Thursday', 'Friday', 'Mango', 'Pineapple', 'Guava', 'Lime'] 9\n",
      "['Monday', 'Tuesday', 'Wednesday', 'Thursday', 'Friday', 'Mango', 'Pineapple', 'Guava', 'Lime'] 9\n",
      "['Mango', 'Pineapple', 'Guava', 'Lime'] 4\n"
     ]
    }
   ],
   "source": [
    "list1 = [\"Monday\", \"Tuesday\", \"Wednesday\", \"Thursday\", \"Friday\"]\n",
    "list2 = [\"Mango\", \"Pineapple\", \"Guava\", \"Lime\"]\n",
    "print (list1, len(list1))\n",
    "print (list2, len(list2))\n",
    "list3 = list1 + list2    # list concatenation\n",
    "print (list3, len(list3))\n",
    "list1.extend(list2)      # list concatenation\n",
    "print (list1, len(list1))\n",
    "print (list2, len(list2))"
   ]
  },
  {
   "cell_type": "code",
   "execution_count": 42,
   "id": "e96659aa-d94a-488d-8e79-848a8ad3df5d",
   "metadata": {},
   "outputs": [
    {
     "name": "stdout",
     "output_type": "stream",
     "text": [
      "['Monday', 'Tuesday', 'Wednesday', 'Thursday', 'Friday'] 5\n",
      "['Mango', 'Pineapple', 'Guava', 'Lime'] 4\n",
      "[['Monday', 'Tuesday', 'Wednesday', 'Thursday', 'Friday'], ['Mango', 'Pineapple', 'Guava', 'Lime']] 2\n",
      "5 4\n",
      "['Pineapple', 'Guava'] ['Wednesday', 'Thursday'] nes\n"
     ]
    }
   ],
   "source": [
    "list1 = [\"Monday\", \"Tuesday\", \"Wednesday\", \"Thursday\", \"Friday\"]\n",
    "list2 = [\"Mango\", \"Pineapple\", \"Guava\", \"Lime\"]\n",
    "print (list1, len(list1))\n",
    "print (list2, len(list2))\n",
    "list3 = [list1, list2]      # list of lists\n",
    "print (list3, len(list3))\n",
    "print (len(list3[0]), len(list3[1]))\n",
    "print (list3[1][1:3], list3[0][2:4], list3[0][2][3:6])"
   ]
  },
  {
   "cell_type": "code",
   "execution_count": 43,
   "id": "ea2d1bcd-160a-4d3e-b783-1798bbf07a45",
   "metadata": {},
   "outputs": [
    {
     "name": "stdout",
     "output_type": "stream",
     "text": [
      "['Mango', 'Pineapple', 'Coconut', 'Banana', 'Lime'] 5\n",
      "['Mango', 'Pineapple', 'Coconut', 'Banana', 'Lime', 'Guava'] 6\n",
      "['Mango', 'Pineapple', 'Coconut', 'Banana', 'Lime', 'Guava', 'Apple'] 7\n",
      "['Mango', 'Pineapple', 'Coconut', 'Banana', 'Lime', 'Guava', 'Apple', 'Lemon'] 8\n"
     ]
    }
   ],
   "source": [
    "# insert operation on list\n",
    "list1 = ['Mango', 'Pineapple', 'Coconut', 'Banana', 'Lime']\n",
    "print (list1, len(list1))\n",
    "list1.append(\"Guava\")\n",
    "print (list1, len(list1))\n",
    "list1.append(\"Apple\")\n",
    "print (list1, len(list1))\n",
    "list1.append(\"Lemon\")\n",
    "print (list1, len(list1))"
   ]
  },
  {
   "cell_type": "code",
   "execution_count": 45,
   "id": "b3a3384a-83fc-42f7-9623-d7a15affa981",
   "metadata": {},
   "outputs": [
    {
     "name": "stdout",
     "output_type": "stream",
     "text": [
      "['Mango', 'Pineapple', 'Coconut', 'Banana', 'Lime'] 5\n",
      "['Mango', 'Pineapple', 'Guava', 'Coconut', 'Banana', 'Lime'] 6\n",
      "['Mango', 'Apple', 'Pineapple', 'Guava', 'Coconut', 'Banana', 'Lime'] 7\n",
      "['Mango', 'Apple', 'Pineapple', 'Lemon', 'Guava', 'Coconut', 'Banana', 'Lime'] 8\n"
     ]
    }
   ],
   "source": [
    "list1 = ['Mango', 'Pineapple', 'Coconut', 'Banana', 'Lime']\n",
    "print (list1, len(list1))\n",
    "list1.insert(2, \"Guava\")\n",
    "print (list1, len(list1))\n",
    "list1.insert(1, \"Apple\")\n",
    "print (list1, len(list1))\n",
    "list1.insert(3, \"Lemon\")\n",
    "print (list1, len(list1))"
   ]
  },
  {
   "cell_type": "code",
   "execution_count": 48,
   "id": "110b26bf-a85e-487f-aff2-c84f8a2fd8f0",
   "metadata": {},
   "outputs": [
    {
     "name": "stdout",
     "output_type": "stream",
     "text": [
      "['Mango', 'Pineapple', 'Coconut', 'Banana', 'Lime'] 5\n",
      "['Himsagar', 'Pineapple', 'Coconut', 'Banana', 'Lime'] 5\n",
      "['Himsagar', 'Pineapple', 'Coconut', 'Banana', 'Lemon'] 5\n"
     ]
    }
   ],
   "source": [
    "# update operation on list\n",
    "list1 = ['Mango', 'Pineapple', 'Coconut', 'Banana', 'Lime']\n",
    "print (list1, len(list1))\n",
    "list1[0] = \"Himsagar\"\n",
    "print (list1, len(list1))\n",
    "list1[4] = \"Lemon\"\n",
    "print (list1, len(list1))"
   ]
  },
  {
   "cell_type": "code",
   "execution_count": 49,
   "id": "9f0bdd18-3edc-492b-a26b-6967d520e264",
   "metadata": {},
   "outputs": [
    {
     "name": "stdout",
     "output_type": "stream",
     "text": [
      "['Mango', 'Pineapple', 'Coconut', 'Banana', 'Lime'] 5\n",
      "['Mango', 'Coconut', 'Banana', 'Lime'] 4\n",
      "['Mango', 'Coconut', 'Lime'] 3\n"
     ]
    },
    {
     "ename": "ValueError",
     "evalue": "list.remove(x): x not in list",
     "output_type": "error",
     "traceback": [
      "\u001b[1;31m---------------------------------------------------------------------------\u001b[0m",
      "\u001b[1;31mValueError\u001b[0m                                Traceback (most recent call last)",
      "Cell \u001b[1;32mIn[49], line 8\u001b[0m\n\u001b[0;32m      6\u001b[0m list1\u001b[38;5;241m.\u001b[39mremove(\u001b[38;5;124m\"\u001b[39m\u001b[38;5;124mBanana\u001b[39m\u001b[38;5;124m\"\u001b[39m)\n\u001b[0;32m      7\u001b[0m \u001b[38;5;28mprint\u001b[39m (list1, \u001b[38;5;28mlen\u001b[39m(list1))\n\u001b[1;32m----> 8\u001b[0m \u001b[43mlist1\u001b[49m\u001b[38;5;241;43m.\u001b[39;49m\u001b[43mremove\u001b[49m\u001b[43m(\u001b[49m\u001b[38;5;124;43m\"\u001b[39;49m\u001b[38;5;124;43mLemon\u001b[39;49m\u001b[38;5;124;43m\"\u001b[39;49m\u001b[43m)\u001b[49m\n\u001b[0;32m      9\u001b[0m \u001b[38;5;28mprint\u001b[39m (list1, \u001b[38;5;28mlen\u001b[39m(list1))\n",
      "\u001b[1;31mValueError\u001b[0m: list.remove(x): x not in list"
     ]
    }
   ],
   "source": [
    "# deletion operation on list\n",
    "list1 = ['Mango', 'Pineapple', 'Coconut', 'Banana', 'Lime']\n",
    "print (list1, len(list1))\n",
    "list1.remove(\"Pineapple\")\n",
    "print (list1, len(list1))\n",
    "list1.remove(\"Banana\")\n",
    "print (list1, len(list1))\n",
    "list1.remove(\"Lemon\")\n",
    "print (list1, len(list1))"
   ]
  },
  {
   "cell_type": "code",
   "execution_count": 50,
   "id": "6473839d-00c2-488a-b52e-c0919d11cf6e",
   "metadata": {},
   "outputs": [
    {
     "name": "stdout",
     "output_type": "stream",
     "text": [
      "['Mango', 'Pineapple', 'Coconut', 'Banana', 'Lime'] 5\n",
      "Lime\n",
      "['Mango', 'Pineapple', 'Coconut', 'Banana'] 4\n",
      "Banana\n",
      "['Mango', 'Pineapple', 'Coconut'] 3\n",
      "Coconut\n",
      "['Mango', 'Pineapple'] 2\n"
     ]
    }
   ],
   "source": [
    "list1 = ['Mango', 'Pineapple', 'Coconut', 'Banana', 'Lime']\n",
    "print (list1, len(list1))\n",
    "print (list1.pop())\n",
    "print (list1, len(list1))\n",
    "print (list1.pop())\n",
    "print (list1, len(list1))\n",
    "print (list1.pop())\n",
    "print (list1, len(list1))"
   ]
  },
  {
   "cell_type": "code",
   "execution_count": 51,
   "id": "47fe9d9c-2bea-4d9a-b6c4-0413130be927",
   "metadata": {},
   "outputs": [
    {
     "name": "stdout",
     "output_type": "stream",
     "text": [
      "['Mango', 'Pineapple', 'Coconut', 'Banana', 'Lime'] 5\n",
      "Coconut\n",
      "['Mango', 'Pineapple', 'Banana', 'Lime'] 4\n",
      "Mango\n",
      "['Pineapple', 'Banana', 'Lime'] 3\n",
      "Banana\n",
      "['Pineapple', 'Lime'] 2\n"
     ]
    }
   ],
   "source": [
    "list1 = ['Mango', 'Pineapple', 'Coconut', 'Banana', 'Lime']\n",
    "print (list1, len(list1))\n",
    "print (list1.pop(2))\n",
    "print (list1, len(list1))\n",
    "print (list1.pop(0))\n",
    "print (list1, len(list1))\n",
    "print (list1.pop(1))\n",
    "print (list1, len(list1))"
   ]
  },
  {
   "cell_type": "code",
   "execution_count": 52,
   "id": "ae6e718b-385e-464a-812d-01abae02eb5c",
   "metadata": {},
   "outputs": [
    {
     "name": "stdout",
     "output_type": "stream",
     "text": [
      "['Mango', 'Pineapple', 'Coconut', 'Banana', 'Lime'] 5\n",
      "[] 0\n"
     ]
    }
   ],
   "source": [
    "list1 = ['Mango', 'Pineapple', 'Coconut', 'Banana', 'Lime']\n",
    "print (list1, len(list1))\n",
    "list1.clear()\n",
    "print (list1, len(list1))"
   ]
  },
  {
   "cell_type": "code",
   "execution_count": 53,
   "id": "fdbd7bd3-95da-4dba-bd66-14bc6c19e9ac",
   "metadata": {},
   "outputs": [
    {
     "name": "stdout",
     "output_type": "stream",
     "text": [
      "['Mango', 'Pineapple', 'Coconut', 'Banana', 'Lime'] 5\n",
      "['Mango', 'Pineapple', 'Banana', 'Lime'] 4\n",
      "['Pineapple', 'Banana', 'Lime'] 3\n",
      "['Pineapple', 'Lime'] 2\n"
     ]
    }
   ],
   "source": [
    "list1 = ['Mango', 'Pineapple', 'Coconut', 'Banana', 'Lime']\n",
    "print (list1, len(list1))\n",
    "del list1[2]\n",
    "print (list1, len(list1))\n",
    "del list1[0]\n",
    "print (list1, len(list1))\n",
    "del list1[1]\n",
    "print (list1, len(list1))"
   ]
  },
  {
   "cell_type": "code",
   "execution_count": 54,
   "id": "484f7108-72e1-4129-89dd-c4725d8f967d",
   "metadata": {},
   "outputs": [
    {
     "name": "stdout",
     "output_type": "stream",
     "text": [
      "['Mango', 'Pineapple', 'Coconut', 'Banana', 'Lime'] 5\n"
     ]
    },
    {
     "ename": "NameError",
     "evalue": "name 'list1' is not defined",
     "output_type": "error",
     "traceback": [
      "\u001b[1;31m---------------------------------------------------------------------------\u001b[0m",
      "\u001b[1;31mNameError\u001b[0m                                 Traceback (most recent call last)",
      "Cell \u001b[1;32mIn[54], line 4\u001b[0m\n\u001b[0;32m      2\u001b[0m \u001b[38;5;28mprint\u001b[39m (list1, \u001b[38;5;28mlen\u001b[39m(list1))\n\u001b[0;32m      3\u001b[0m \u001b[38;5;28;01mdel\u001b[39;00m list1\n\u001b[1;32m----> 4\u001b[0m \u001b[38;5;28mprint\u001b[39m (\u001b[43mlist1\u001b[49m, \u001b[38;5;28mlen\u001b[39m(list1))\n",
      "\u001b[1;31mNameError\u001b[0m: name 'list1' is not defined"
     ]
    }
   ],
   "source": [
    "list1 = ['Mango', 'Pineapple', 'Coconut', 'Banana', 'Lime']\n",
    "print (list1, len(list1))\n",
    "del list1\n",
    "print (list1, len(list1))"
   ]
  },
  {
   "cell_type": "code",
   "execution_count": 55,
   "id": "11d14152-c8b6-4ecc-a938-f9c124a4b09a",
   "metadata": {},
   "outputs": [
    {
     "name": "stdout",
     "output_type": "stream",
     "text": [
      "['Mango', 'Pineapple', 'Coconut', 'Banana', 'Lime'] 5\n",
      "['Lime', 'Banana', 'Coconut', 'Pineapple', 'Mango'] 5\n"
     ]
    }
   ],
   "source": [
    "# reverse of a list\n",
    "list1 = ['Mango', 'Pineapple', 'Coconut', 'Banana', 'Lime']\n",
    "print (list1, len(list1))\n",
    "list1.reverse()\n",
    "print (list1, len(list1))"
   ]
  },
  {
   "cell_type": "code",
   "execution_count": 56,
   "id": "493b361f-64cf-4d9c-8b37-fcf23cc0a191",
   "metadata": {},
   "outputs": [
    {
     "name": "stdout",
     "output_type": "stream",
     "text": [
      "['Mango', 'Pineapple', 'Coconut', 'Banana', 'Lime'] 5\n",
      "['Banana', 'Coconut', 'Lime', 'Mango', 'Pineapple'] 5\n"
     ]
    }
   ],
   "source": [
    "# sorting of a list\n",
    "list1 = ['Mango', 'Pineapple', 'Coconut', 'Banana', 'Lime']\n",
    "print (list1, len(list1))\n",
    "list1.sort()\n",
    "print (list1, len(list1))"
   ]
  },
  {
   "cell_type": "code",
   "execution_count": 57,
   "id": "fc1e96d2-47cf-418e-afa3-9c6f8f8d2a35",
   "metadata": {},
   "outputs": [
    {
     "name": "stdout",
     "output_type": "stream",
     "text": [
      "['Mango', 'Pineapple', 'Coconut', 'Banana', 'Lime'] 5\n",
      "['Pineapple', 'Mango', 'Lime', 'Coconut', 'Banana'] 5\n"
     ]
    }
   ],
   "source": [
    "list1 = ['Mango', 'Pineapple', 'Coconut', 'Banana', 'Lime']\n",
    "print (list1, len(list1))\n",
    "list1.sort(reverse = True)\n",
    "print (list1, len(list1))"
   ]
  },
  {
   "cell_type": "code",
   "execution_count": 58,
   "id": "61467270-452e-46ad-b40d-1f1c0d94446a",
   "metadata": {},
   "outputs": [
    {
     "name": "stdout",
     "output_type": "stream",
     "text": [
      "['Mango', 'Pineapple', 'Coconut', 'Banana', 'Lime'] 5\n",
      "['Banana', 'Coconut', 'Lime', 'Mango', 'Pineapple'] 5\n"
     ]
    }
   ],
   "source": [
    "list1 = ['Mango', 'Pineapple', 'Coconut', 'Banana', 'Lime']\n",
    "print (list1, len(list1))\n",
    "list1 = sorted(list1)\n",
    "print (list1, len(list1))"
   ]
  },
  {
   "cell_type": "code",
   "execution_count": 59,
   "id": "b5a13113-563b-4f8d-9c67-45a5a0316a52",
   "metadata": {},
   "outputs": [
    {
     "name": "stdout",
     "output_type": "stream",
     "text": [
      "['Mango', 'Pineapple', 'Coconut', 'Banana', 'Lime'] 5\n",
      "['Pineapple', 'Mango', 'Lime', 'Coconut', 'Banana'] 5\n"
     ]
    }
   ],
   "source": [
    "list1 = ['Mango', 'Pineapple', 'Coconut', 'Banana', 'Lime']\n",
    "print (list1, len(list1))\n",
    "list1 = sorted(list1, reverse = True)\n",
    "print (list1, len(list1))"
   ]
  },
  {
   "cell_type": "code",
   "execution_count": 61,
   "id": "62fbadbf-80e9-4043-bfd4-432866d6a9bb",
   "metadata": {},
   "outputs": [
    {
     "name": "stdout",
     "output_type": "stream",
     "text": [
      "['Mango', 'Pineapple', 'Coconut', 'Banana', 'Pineapple', 'Coconut', 'Banana', 'Lime'] 8\n",
      "2\n",
      "1\n",
      "4\n"
     ]
    }
   ],
   "source": [
    "list1 = ['Mango', 'Pineapple', 'Coconut', 'Banana', 'Pineapple', 'Coconut', 'Banana', 'Lime']\n",
    "print (list1, len(list1))\n",
    "print (list1.count('Pineapple'))\n",
    "print (list1.index(\"Pineapple\"))\n",
    "print (list1.index(\"Pineapple\", 2))"
   ]
  },
  {
   "cell_type": "markdown",
   "id": "8ec67048-b4fc-4657-b72c-3190c2351966",
   "metadata": {},
   "source": [
    "## **Tuple Processing**"
   ]
  },
  {
   "cell_type": "code",
   "execution_count": 35,
   "id": "1c4b00d2-3a17-4d90-a415-d0f47f87757a",
   "metadata": {},
   "outputs": [
    {
     "name": "stdout",
     "output_type": "stream",
     "text": [
      "(100, 400, 300, 200, 700) 5 <class 'tuple'> 1738331360288\n",
      "700 100\n",
      "1700 340.0\n"
     ]
    }
   ],
   "source": [
    "tuple1 = (100, 400, 300, 200, 700)\n",
    "print (tuple1, len(tuple1), type(tuple1), id(tuple1))\n",
    "print (max(tuple1), min(tuple1))\n",
    "print (sum(tuple1), sum(tuple1) / len(tuple1))"
   ]
  },
  {
   "cell_type": "code",
   "execution_count": 36,
   "id": "15297efa-907b-483b-a28b-8e513875ed27",
   "metadata": {},
   "outputs": [
    {
     "name": "stdout",
     "output_type": "stream",
     "text": [
      "(100, 400, True, 300, 200, False, 700) 7 <class 'tuple'> 1738330143712\n",
      "700 False\n",
      "1701 243.0\n"
     ]
    }
   ],
   "source": [
    "tuple1 = (100, 400, True, 300, 200, False, 700)\n",
    "print (tuple1, len(tuple1), type(tuple1), id(tuple1))\n",
    "print (max(tuple1), min(tuple1))\n",
    "print (sum(tuple1), sum(tuple1) / len(tuple1))"
   ]
  },
  {
   "cell_type": "code",
   "execution_count": 38,
   "id": "9a0ffd1e-a887-4b31-befb-c443fe2ffce0",
   "metadata": {},
   "outputs": [
    {
     "name": "stdout",
     "output_type": "stream",
     "text": [
      "('sunday', 'monday', 'friday', 'saturday', 'tuesday') 5 <class 'tuple'> 1738330282144\n",
      "tuesday friday\n"
     ]
    },
    {
     "ename": "TypeError",
     "evalue": "unsupported operand type(s) for +: 'int' and 'str'",
     "output_type": "error",
     "traceback": [
      "\u001b[1;31m---------------------------------------------------------------------------\u001b[0m",
      "\u001b[1;31mTypeError\u001b[0m                                 Traceback (most recent call last)",
      "Cell \u001b[1;32mIn[38], line 4\u001b[0m\n\u001b[0;32m      2\u001b[0m \u001b[38;5;28mprint\u001b[39m (tuple1, \u001b[38;5;28mlen\u001b[39m(tuple1), \u001b[38;5;28mtype\u001b[39m(tuple1), \u001b[38;5;28mid\u001b[39m(tuple1))\n\u001b[0;32m      3\u001b[0m \u001b[38;5;28mprint\u001b[39m (\u001b[38;5;28mmax\u001b[39m(tuple1), \u001b[38;5;28mmin\u001b[39m(tuple1))\n\u001b[1;32m----> 4\u001b[0m \u001b[38;5;28mprint\u001b[39m (\u001b[38;5;28;43msum\u001b[39;49m\u001b[43m(\u001b[49m\u001b[43mtuple1\u001b[49m\u001b[43m)\u001b[49m, \u001b[38;5;28msum\u001b[39m(tuple1) \u001b[38;5;241m/\u001b[39m \u001b[38;5;28mlen\u001b[39m(tuple1))\n",
      "\u001b[1;31mTypeError\u001b[0m: unsupported operand type(s) for +: 'int' and 'str'"
     ]
    }
   ],
   "source": [
    "tuple1 = (\"sunday\", \"monday\", 'friday', 'saturday', 'tuesday')\n",
    "print (tuple1, len(tuple1), type(tuple1), id(tuple1))\n",
    "print (max(tuple1), min(tuple1))\n",
    "print (sum(tuple1), sum(tuple1) / len(tuple1))"
   ]
  },
  {
   "cell_type": "code",
   "execution_count": 39,
   "id": "fc639bad-f058-4195-9e81-d899f33e7be0",
   "metadata": {},
   "outputs": [
    {
     "name": "stdout",
     "output_type": "stream",
     "text": [
      "(100, 400, True, 'Tuesday', 300, 'Wednesday', 200, False, 700) 9 <class 'tuple'> 1738332234560\n"
     ]
    },
    {
     "ename": "TypeError",
     "evalue": "'>' not supported between instances of 'str' and 'int'",
     "output_type": "error",
     "traceback": [
      "\u001b[1;31m---------------------------------------------------------------------------\u001b[0m",
      "\u001b[1;31mTypeError\u001b[0m                                 Traceback (most recent call last)",
      "Cell \u001b[1;32mIn[39], line 3\u001b[0m\n\u001b[0;32m      1\u001b[0m tuple1 \u001b[38;5;241m=\u001b[39m (\u001b[38;5;241m100\u001b[39m, \u001b[38;5;241m400\u001b[39m, \u001b[38;5;28;01mTrue\u001b[39;00m, \u001b[38;5;124m\"\u001b[39m\u001b[38;5;124mTuesday\u001b[39m\u001b[38;5;124m\"\u001b[39m, \u001b[38;5;241m300\u001b[39m, \u001b[38;5;124m\"\u001b[39m\u001b[38;5;124mWednesday\u001b[39m\u001b[38;5;124m\"\u001b[39m, \u001b[38;5;241m200\u001b[39m, \u001b[38;5;28;01mFalse\u001b[39;00m, \u001b[38;5;241m700\u001b[39m)\n\u001b[0;32m      2\u001b[0m \u001b[38;5;28mprint\u001b[39m (tuple1, \u001b[38;5;28mlen\u001b[39m(tuple1), \u001b[38;5;28mtype\u001b[39m(tuple1), \u001b[38;5;28mid\u001b[39m(tuple1))\n\u001b[1;32m----> 3\u001b[0m \u001b[38;5;28mprint\u001b[39m (\u001b[38;5;28;43mmax\u001b[39;49m\u001b[43m(\u001b[49m\u001b[43mtuple1\u001b[49m\u001b[43m)\u001b[49m, \u001b[38;5;28mmin\u001b[39m(tuple1))\n\u001b[0;32m      4\u001b[0m \u001b[38;5;28mprint\u001b[39m (\u001b[38;5;28msum\u001b[39m(tuple1), \u001b[38;5;28msum\u001b[39m(tuple1) \u001b[38;5;241m/\u001b[39m \u001b[38;5;28mlen\u001b[39m(tuple1))\n",
      "\u001b[1;31mTypeError\u001b[0m: '>' not supported between instances of 'str' and 'int'"
     ]
    }
   ],
   "source": [
    "tuple1 = (100, 400, True, \"Tuesday\", 300, \"Wednesday\", 200, False, 700)\n",
    "print (tuple1, len(tuple1), type(tuple1), id(tuple1))\n",
    "print (max(tuple1), min(tuple1))\n",
    "print (sum(tuple1), sum(tuple1) / len(tuple1))"
   ]
  },
  {
   "cell_type": "code",
   "execution_count": 74,
   "id": "3b4a5afb-33bd-43ba-a442-ce5d5c8b3098",
   "metadata": {},
   "outputs": [
    {
     "name": "stdout",
     "output_type": "stream",
     "text": [
      "('Monday', 'Tuesday', 'Wednesday', 'Thursday', 'Friday') 5\n",
      "('Mango', 'Pineapple', 'Guava', 'Lime') 4\n",
      "('Monday', 'Tuesday', 'Wednesday', 'Thursday', 'Friday', 'Mango', 'Pineapple', 'Guava', 'Lime') 9\n",
      "(('Monday', 'Tuesday', 'Wednesday', 'Thursday', 'Friday'), ('Mango', 'Pineapple', 'Guava', 'Lime')) 2\n"
     ]
    }
   ],
   "source": [
    "tuple1 = (\"Monday\", \"Tuesday\", \"Wednesday\", \"Thursday\", \"Friday\")\n",
    "tuple2 = (\"Mango\", \"Pineapple\", \"Guava\", \"Lime\")\n",
    "print (tuple1, len(tuple1))\n",
    "print (tuple2, len(tuple2))\n",
    "tuple3 = tuple1 + tuple2    # tuple concatenation\n",
    "print (tuple3, len(tuple3))\n",
    "tuple3 = (tuple1, tuple2)   # tuple of tuples\n",
    "print (tuple3, len(tuple3))"
   ]
  },
  {
   "cell_type": "code",
   "execution_count": 62,
   "id": "c7362ab6-81ee-4ed1-93bb-d583eb9568e4",
   "metadata": {},
   "outputs": [
    {
     "name": "stdout",
     "output_type": "stream",
     "text": [
      "Wednesday Wednesday Thursday Thursday\n",
      "nes nes\n"
     ]
    }
   ],
   "source": [
    "# Indexing and slicing\n",
    "# L ro R ->   0         1          2            3           4\n",
    "tuple1 =    (\"Monday\", \"Tuesday\", \"Wednesday\", \"Thursday\", \"Friday\")\n",
    "# R to L ->  -5        -4         -3           -2          -1\n",
    "print (tuple1[2], tuple1[-3], tuple1[3], tuple1[-2])\n",
    "print (tuple1[2][3:6], tuple1[-3][-6:-3])"
   ]
  },
  {
   "cell_type": "code",
   "execution_count": 63,
   "id": "e7a813ce-be1b-459c-906a-79bf683fdea6",
   "metadata": {},
   "outputs": [
    {
     "name": "stdout",
     "output_type": "stream",
     "text": [
      "10 <class 'int'>\n",
      "(10,) <class 'tuple'>\n"
     ]
    }
   ],
   "source": [
    "var1 = (10)\n",
    "print (var1, type(var1))\n",
    "var1 = (10,)   # singleton representation of a tuple\n",
    "print (var1, type(var1))"
   ]
  },
  {
   "cell_type": "code",
   "execution_count": 67,
   "id": "93d01a9a-de77-4712-9a51-28e7c34435d2",
   "metadata": {},
   "outputs": [
    {
     "name": "stdout",
     "output_type": "stream",
     "text": [
      "('Monday', 'Tuesday', 'Wednesday', 'Thursday', 'Friday') <class 'tuple'> 1738332190688\n",
      "['Monday', 'Saturday', 'Wednesday', 'Thursday', 'Friday'] <class 'list'> 1738329350976\n",
      "('Monday', 'Saturday', 'Wednesday', 'Thursday', 'Friday') <class 'tuple'> 1738332307056\n"
     ]
    }
   ],
   "source": [
    "# update operation on a tuple\n",
    "tuple1 = (\"Monday\", \"Tuesday\", \"Wednesday\", \"Thursday\", \"Friday\")\n",
    "print (tuple1, type(tuple1), id(tuple1))\n",
    "# tuple1[1] = 'Saturday'\n",
    "list1 = list(tuple1)\n",
    "list1[1] = 'Saturday'\n",
    "print (list1, type(list1), id(list1))\n",
    "tuple1 = tuple(list1)\n",
    "print (tuple1, type(tuple1), id(tuple1))"
   ]
  },
  {
   "cell_type": "code",
   "execution_count": 68,
   "id": "ba0fb593-3d2c-4d34-8b52-2432eec9ae02",
   "metadata": {},
   "outputs": [
    {
     "name": "stdout",
     "output_type": "stream",
     "text": [
      "('Monday', 'Tuesday', 'Wednesday', 'Thursday', 'Friday')\n",
      "('Friday', 'Monday', 'Thursday', 'Tuesday', 'Wednesday')\n"
     ]
    }
   ],
   "source": [
    "# sorting on a tuple\n",
    "tuple1 = (\"Monday\", \"Tuesday\", \"Wednesday\", \"Thursday\", \"Friday\")\n",
    "print (tuple1)\n",
    "tuple2 = tuple(sorted(tuple1))\n",
    "print (tuple2)"
   ]
  },
  {
   "cell_type": "code",
   "execution_count": 69,
   "id": "fef456d1-2abd-4a58-9592-65ea7b420f2a",
   "metadata": {},
   "outputs": [
    {
     "name": "stdout",
     "output_type": "stream",
     "text": [
      "2 0\n"
     ]
    }
   ],
   "source": [
    "tuple1 = ('Mango', 'Pineapple', 'Coconut', 'Banana', 'Pineapple', 'Coconut', 'Banana', 'Lime')\n",
    "print (tuple1.count('Pineapple'), tuple1.count('Lemon'))"
   ]
  },
  {
   "cell_type": "code",
   "execution_count": 72,
   "id": "398f66a4-bbff-4001-b261-bea903d485b4",
   "metadata": {},
   "outputs": [
    {
     "name": "stdout",
     "output_type": "stream",
     "text": [
      "1\n",
      "1\n",
      "4\n"
     ]
    },
    {
     "ename": "ValueError",
     "evalue": "tuple.index(x): x not in tuple",
     "output_type": "error",
     "traceback": [
      "\u001b[1;31m---------------------------------------------------------------------------\u001b[0m",
      "\u001b[1;31mValueError\u001b[0m                                Traceback (most recent call last)",
      "Cell \u001b[1;32mIn[72], line 5\u001b[0m\n\u001b[0;32m      3\u001b[0m \u001b[38;5;28mprint\u001b[39m (tuple1\u001b[38;5;241m.\u001b[39mindex(\u001b[38;5;124m\"\u001b[39m\u001b[38;5;124mPineapple\u001b[39m\u001b[38;5;124m\"\u001b[39m, \u001b[38;5;241m0\u001b[39m))\n\u001b[0;32m      4\u001b[0m \u001b[38;5;28mprint\u001b[39m (tuple1\u001b[38;5;241m.\u001b[39mindex(\u001b[38;5;124m\"\u001b[39m\u001b[38;5;124mPineapple\u001b[39m\u001b[38;5;124m\"\u001b[39m, \u001b[38;5;241m2\u001b[39m))\n\u001b[1;32m----> 5\u001b[0m \u001b[38;5;28mprint\u001b[39m (\u001b[43mtuple1\u001b[49m\u001b[38;5;241;43m.\u001b[39;49m\u001b[43mindex\u001b[49m\u001b[43m(\u001b[49m\u001b[38;5;124;43m\"\u001b[39;49m\u001b[38;5;124;43mPineapple\u001b[39;49m\u001b[38;5;124;43m\"\u001b[39;49m\u001b[43m,\u001b[49m\u001b[43m \u001b[49m\u001b[38;5;241;43m5\u001b[39;49m\u001b[43m)\u001b[49m)\n",
      "\u001b[1;31mValueError\u001b[0m: tuple.index(x): x not in tuple"
     ]
    }
   ],
   "source": [
    "tuple1 = ('Mango', 'Pineapple', 'Coconut', 'Banana', 'Pineapple', 'Coconut', 'Banana', 'Lime')\n",
    "print (tuple1.index(\"Pineapple\"))\n",
    "print (tuple1.index(\"Pineapple\", 0))\n",
    "print (tuple1.index(\"Pineapple\", 2))\n",
    "print (tuple1.index(\"Pineapple\", 5))"
   ]
  },
  {
   "cell_type": "markdown",
   "id": "e97a0136-24b4-4874-a271-3ae67aefa821",
   "metadata": {},
   "source": [
    "## **Day-5**"
   ]
  },
  {
   "cell_type": "markdown",
   "id": "f76f4e1f-8213-4031-8bb4-db45f3aa3c42",
   "metadata": {},
   "source": [
    "## **Dictionary Processing**"
   ]
  },
  {
   "cell_type": "code",
   "execution_count": 4,
   "id": "2f049078-8f60-4568-9648-c7959ef921dc",
   "metadata": {},
   "outputs": [
    {
     "name": "stdout",
     "output_type": "stream",
     "text": [
      "{'apple': 'red', 'pineapple': 'yellow', 'mango': 'green', 'orange': 'orange', 'lime': 'green'} 5 <class 'dict'> 2131679207168\n"
     ]
    }
   ],
   "source": [
    "dict1 = {\"apple\":\"red\", \"pineapple\":\"yellow\", \"mango\":\"green\", \"orange\":\"orange\", \"lime\":\"green\"}\n",
    "print (dict1, len(dict1), type(dict1), id(dict1))"
   ]
  },
  {
   "cell_type": "code",
   "execution_count": 2,
   "id": "89279f67-e03f-40d2-9d5a-9bb5cb13f4f0",
   "metadata": {},
   "outputs": [
    {
     "name": "stdout",
     "output_type": "stream",
     "text": [
      "dict_keys(['apple', 'pineapple', 'mango', 'orange', 'lime'])\n",
      "dict_values(['red', 'yellow', 'green', 'orange', 'green'])\n",
      "dict_items([('apple', 'red'), ('pineapple', 'yellow'), ('mango', 'green'), ('orange', 'orange'), ('lime', 'green')])\n"
     ]
    }
   ],
   "source": [
    "print (dict1.keys())   # returns list of keys\n",
    "print (dict1.values()) # returns list of values\n",
    "print (dict1.items())  # returns list of tuples"
   ]
  },
  {
   "cell_type": "code",
   "execution_count": 8,
   "id": "0e0dbd88-8d31-4294-a813-901576ba92ce",
   "metadata": {},
   "outputs": [
    {
     "name": "stdout",
     "output_type": "stream",
     "text": [
      "green\n",
      "None\n",
      "Not Available\n",
      "green\n"
     ]
    }
   ],
   "source": [
    "dict1 = {\"apple\":\"red\", \"pineapple\":\"yellow\", \"mango\":\"green\", \"orange\":\"orange\"}\n",
    "print (dict1.get('mango'))\n",
    "print (dict1.get('banana'))\n",
    "print (dict1.get('banana', \"Not Available\"))\n",
    "print (dict1.get('mango', \"Not Available\"))"
   ]
  },
  {
   "cell_type": "code",
   "execution_count": 11,
   "id": "ed4c9515-8b76-441a-84ec-8ed097a3e89b",
   "metadata": {},
   "outputs": [
    {
     "name": "stdout",
     "output_type": "stream",
     "text": [
      "red\n",
      "yellow\n"
     ]
    },
    {
     "ename": "KeyError",
     "evalue": "'lime'",
     "output_type": "error",
     "traceback": [
      "\u001b[1;31m---------------------------------------------------------------------------\u001b[0m",
      "\u001b[1;31mKeyError\u001b[0m                                  Traceback (most recent call last)",
      "Cell \u001b[1;32mIn[11], line 4\u001b[0m\n\u001b[0;32m      2\u001b[0m \u001b[38;5;28mprint\u001b[39m (dict1[\u001b[38;5;124m'\u001b[39m\u001b[38;5;124mapple\u001b[39m\u001b[38;5;124m'\u001b[39m])\n\u001b[0;32m      3\u001b[0m \u001b[38;5;28mprint\u001b[39m (dict1[\u001b[38;5;124m'\u001b[39m\u001b[38;5;124mpineapple\u001b[39m\u001b[38;5;124m'\u001b[39m])\n\u001b[1;32m----> 4\u001b[0m \u001b[38;5;28mprint\u001b[39m (\u001b[43mdict1\u001b[49m\u001b[43m[\u001b[49m\u001b[38;5;124;43m'\u001b[39;49m\u001b[38;5;124;43mlime\u001b[39;49m\u001b[38;5;124;43m'\u001b[39;49m\u001b[43m]\u001b[49m)\n",
      "\u001b[1;31mKeyError\u001b[0m: 'lime'"
     ]
    }
   ],
   "source": [
    "dict1 = {\"apple\":\"red\", \"pineapple\":\"yellow\", \"mango\":\"green\", \"orange\":\"orange\"}\n",
    "print (dict1['apple'])\n",
    "print (dict1['pineapple'])\n",
    "print (dict1['lime'])"
   ]
  },
  {
   "cell_type": "code",
   "execution_count": 13,
   "id": "4ebc023d-1272-43f6-a160-9fb3b366b30f",
   "metadata": {},
   "outputs": [
    {
     "name": "stdout",
     "output_type": "stream",
     "text": [
      "{'apple': 'red', 'pineapple': 'yellow', 'mango': 'green', 'orange': 'orange'}\n",
      "{'apple': 'red', 'pineapple': 'yellow', 'mango': 'green', 'orange': 'orange', 'banana': 'yellow'}\n",
      "{'apple': 'red', 'pineapple': 'yellow', 'mango': 'red', 'orange': 'orange', 'banana': 'yellow'}\n"
     ]
    }
   ],
   "source": [
    "# insert and update operations on a dictionary\n",
    "dict1 = {\"apple\":\"red\", \"pineapple\":\"yellow\", \"mango\":\"green\", \"orange\":\"orange\"}\n",
    "print (dict1)\n",
    "dict1['banana'] = 'yellow'    # insert operation\n",
    "print (dict1)\n",
    "dict1['mango'] = 'red'        # update operation\n",
    "print (dict1)"
   ]
  },
  {
   "cell_type": "code",
   "execution_count": 15,
   "id": "024cf47f",
   "metadata": {},
   "outputs": [
    {
     "name": "stdout",
     "output_type": "stream",
     "text": [
      "{'apple': 'red', 'pineapple': 'yellow', 'mango': 'green', 'orange': 'orange'}\n",
      "{'apple': 'red', 'pineapple': 'yellow', 'mango': 'green', 'orange': 'orange'}\n",
      "{'apple': 'red', 'pineapple': 'yellow', 'mango': 'green', 'orange': 'orange'}\n",
      "{'apple': 'red', 'pineapple': 'yellow', 'mango': 'green', 'orange': 'orange', 'banana': 'yellow'}\n"
     ]
    }
   ],
   "source": [
    "dict1 = {\"apple\":\"red\", \"pineapple\":\"yellow\", \"mango\":\"green\", \"orange\":\"orange\"}\n",
    "print (dict1)\n",
    "dict1.setdefault(\"apple\", \"deep red\")\n",
    "print (dict1)\n",
    "dict1.setdefault(\"mango\", \"red\")\n",
    "print (dict1)\n",
    "dict1.setdefault(\"banana\", \"yellow\")\n",
    "print (dict1)"
   ]
  },
  {
   "cell_type": "code",
   "execution_count": 17,
   "id": "c7ca3b82",
   "metadata": {},
   "outputs": [
    {
     "name": "stdout",
     "output_type": "stream",
     "text": [
      "{'apple': 'red', 'pineapple': 'yellow', 'mango': 'green', 'orange': 'orange'} 4\n",
      "yellow\n",
      "{'apple': 'red', 'mango': 'green', 'orange': 'orange'} 3\n",
      "green\n",
      "{'apple': 'red', 'orange': 'orange'} 2\n"
     ]
    }
   ],
   "source": [
    "# delete operation on dictionary\n",
    "dict1 = {\"apple\":\"red\", \"pineapple\":\"yellow\", \"mango\":\"green\", \"orange\":\"orange\"}\n",
    "print (dict1, len(dict1))\n",
    "print (dict1.pop('pineapple'))\n",
    "print (dict1, len(dict1))\n",
    "print (dict1.pop('mango'))\n",
    "print (dict1, len(dict1))"
   ]
  },
  {
   "cell_type": "code",
   "execution_count": 19,
   "id": "973d2510",
   "metadata": {},
   "outputs": [
    {
     "name": "stdout",
     "output_type": "stream",
     "text": [
      "{'apple': 'red', 'pineapple': 'yellow', 'mango': 'green', 'orange': 'orange'} 4\n",
      "('orange', 'orange')\n",
      "{'apple': 'red', 'pineapple': 'yellow', 'mango': 'green'} 3\n",
      "('mango', 'green')\n",
      "{'apple': 'red', 'pineapple': 'yellow'} 2\n"
     ]
    }
   ],
   "source": [
    "dict1 = {\"apple\":\"red\", \"pineapple\":\"yellow\", \"mango\":\"green\", \"orange\":\"orange\"}\n",
    "print (dict1, len(dict1))\n",
    "print (dict1.popitem())\n",
    "print (dict1, len(dict1))\n",
    "print (dict1.popitem())\n",
    "print (dict1, len(dict1))"
   ]
  },
  {
   "cell_type": "code",
   "execution_count": 21,
   "id": "e007f1a9",
   "metadata": {},
   "outputs": [
    {
     "name": "stdout",
     "output_type": "stream",
     "text": [
      "{'apple': 'red', 'pineapple': 'yellow', 'mango': 'green', 'orange': 'orange'} 4\n",
      "{} 0\n"
     ]
    }
   ],
   "source": [
    "dict1 = {\"apple\":\"red\", \"pineapple\":\"yellow\", \"mango\":\"green\", \"orange\":\"orange\"}\n",
    "print (dict1, len(dict1))\n",
    "dict1.clear()\n",
    "print (dict1, len(dict1))"
   ]
  },
  {
   "cell_type": "code",
   "execution_count": 22,
   "id": "255d225c",
   "metadata": {},
   "outputs": [
    {
     "name": "stdout",
     "output_type": "stream",
     "text": [
      "{'apple': 'red', 'pineapple': 'yellow', 'mango': 'green', 'orange': 'orange'} 4\n"
     ]
    },
    {
     "ename": "NameError",
     "evalue": "name 'dict1' is not defined",
     "output_type": "error",
     "traceback": [
      "\u001b[1;31m---------------------------------------------------------------------------\u001b[0m",
      "\u001b[1;31mNameError\u001b[0m                                 Traceback (most recent call last)",
      "Cell \u001b[1;32mIn[22], line 4\u001b[0m\n\u001b[0;32m      2\u001b[0m \u001b[38;5;28mprint\u001b[39m (dict1, \u001b[38;5;28mlen\u001b[39m(dict1))\n\u001b[0;32m      3\u001b[0m \u001b[38;5;28;01mdel\u001b[39;00m dict1\n\u001b[1;32m----> 4\u001b[0m \u001b[38;5;28mprint\u001b[39m (\u001b[43mdict1\u001b[49m, \u001b[38;5;28mlen\u001b[39m(dict1))\n",
      "\u001b[1;31mNameError\u001b[0m: name 'dict1' is not defined"
     ]
    }
   ],
   "source": [
    "dict1 = {\"apple\":\"red\", \"pineapple\":\"yellow\", \"mango\":\"green\", \"orange\":\"orange\"}\n",
    "print (dict1, len(dict1))\n",
    "del dict1\n",
    "print (dict1, len(dict1))"
   ]
  },
  {
   "cell_type": "code",
   "execution_count": 23,
   "id": "dc60beab",
   "metadata": {},
   "outputs": [
    {
     "name": "stdout",
     "output_type": "stream",
     "text": [
      "{'apple': 'red', 'pineapple': 'yellow'} 2\n",
      "{'mango': 'green', 'orange': 'orange', 'lime': 'green'} 3\n",
      "{'apple': 'red', 'pineapple': 'yellow', 'mango': 'green', 'orange': 'orange', 'lime': 'green'} 5\n",
      "{'mango': 'green', 'orange': 'orange', 'lime': 'green'} 3\n"
     ]
    }
   ],
   "source": [
    "# concatenation of dictionaries\n",
    "fruits1 = {\"apple\":\"red\", \"pineapple\":\"yellow\"}\n",
    "fruits2 = {\"mango\":\"green\", \"orange\":\"orange\", \"lime\":\"green\"}\n",
    "print (fruits1, len(fruits1))\n",
    "print (fruits2, len(fruits2))\n",
    "fruits1.update(fruits2)\n",
    "print (fruits1, len(fruits1))\n",
    "print (fruits2, len(fruits2))"
   ]
  },
  {
   "cell_type": "code",
   "execution_count": 24,
   "id": "deba8452",
   "metadata": {},
   "outputs": [
    {
     "name": "stdout",
     "output_type": "stream",
     "text": [
      "{'mango': 900, 'pineapple': 900, 'cherry': 900, 'lime': 900}\n"
     ]
    }
   ],
   "source": [
    "mykeys = [\"mango\", 'pineapple', \"cherry\", \"lime\"]\n",
    "price = 900\n",
    "dict1 = dict.fromkeys(mykeys, price)\n",
    "print (dict1)"
   ]
  },
  {
   "cell_type": "code",
   "execution_count": 29,
   "id": "15fa4d00",
   "metadata": {
    "scrolled": true
   },
   "outputs": [
    {
     "name": "stdout",
     "output_type": "stream",
     "text": [
      "<zip object at 0x000001F053B3E540>\n",
      "[('mango', 100), ('pineapple', 300), ('cherry', 500), ('lime', 200), ('banana', 700)]\n",
      "(('mango', 100), ('pineapple', 300), ('cherry', 500), ('lime', 200), ('banana', 700))\n",
      "{'mango': 100, 'pineapple': 300, 'cherry': 500, 'lime': 200, 'banana': 700}\n",
      "{'mango': 100, 'pineapple': 300, 'cherry': 500, 'lime': 200, 'banana': 700}\n"
     ]
    }
   ],
   "source": [
    "fruits = [\"mango\", 'pineapple', \"cherry\", \"lime\", \"banana\"]\n",
    "prices = [100, 300, 500, 200, 700, 900]\n",
    "print (zip(fruits, prices))\n",
    "print (list(zip(fruits, prices)))\n",
    "print (tuple(zip(fruits, prices)))\n",
    "print (dict(zip(fruits, prices)))\n",
    "print (dict(list(zip(fruits, prices))))"
   ]
  },
  {
   "cell_type": "code",
   "execution_count": 30,
   "id": "d8095483",
   "metadata": {},
   "outputs": [
    {
     "name": "stdout",
     "output_type": "stream",
     "text": [
      "March\n",
      "August\n",
      "January\n",
      "Invalid Month No.\n"
     ]
    }
   ],
   "source": [
    "def switch_case_demo(month_no):\n",
    "    switcher = {1:\"January\",\n",
    "                2:\"February\",\n",
    "                3:\"March\",\n",
    "                4:\"April\",\n",
    "                5:\"May\",\n",
    "                6:\"June\",\n",
    "                7:\"July\",\n",
    "                8:\"August\",\n",
    "                9:\"September\",\n",
    "                10:\"October\",\n",
    "                11:\"November\",\n",
    "                12:\"December\"}\n",
    "    return switcher.get(month_no, \"Invalid Month No.\")\n",
    "\n",
    "print (switch_case_demo(3))\n",
    "print (switch_case_demo(8))\n",
    "print (switch_case_demo(1))\n",
    "print (switch_case_demo(13))"
   ]
  },
  {
   "cell_type": "code",
   "execution_count": null,
   "id": "db5a59b8-4dc2-4327-86c6-a5316e796b9e",
   "metadata": {},
   "outputs": [],
   "source": [
    "help(dict)"
   ]
  },
  {
   "cell_type": "markdown",
   "id": "0cb53bcc-5e1f-4870-9663-09086d2b0e72",
   "metadata": {},
   "source": [
    "## **Set Processing**"
   ]
  },
  {
   "cell_type": "code",
   "execution_count": 32,
   "id": "5d4c4663-40df-4f59-b1d9-b9897264f58e",
   "metadata": {},
   "outputs": [
    {
     "name": "stdout",
     "output_type": "stream",
     "text": [
      "{True, 38.5, 70000, 'Chennai', 'Amitava'} 5 2131707760192\n"
     ]
    }
   ],
   "source": [
    "# forming a set from a list\n",
    "list1 = ['Amitava', True, 38.5, 70000, \"Chennai\", True, 38.5, 70000, \"Chennai\", True, 38.5,\n",
    "         70000, \"Chennai\", True, 38.5]\n",
    "set1 = set(list1)\n",
    "print (set1, len(set1), id(set1))"
   ]
  },
  {
   "cell_type": "code",
   "execution_count": 33,
   "id": "b9c34dca-f171-417a-8b3e-3e320c51f22f",
   "metadata": {},
   "outputs": [
    {
     "name": "stdout",
     "output_type": "stream",
     "text": [
      "{True, 38.5, 70000, 'Chennai', 'Amitava'} 5 2131707759072\n"
     ]
    }
   ],
   "source": [
    "# forming a set from a tuple\n",
    "tuple1 = ('Amitava', True, 38.5, 70000, \"Chennai\", True, 38.5, 70000, \"Chennai\", True, 38.5,\n",
    "          70000, \"Chennai\", True, 38.5)\n",
    "set1 = set(tuple1)\n",
    "print (set1, len(set1), id(set1))"
   ]
  },
  {
   "cell_type": "code",
   "execution_count": 34,
   "id": "9e07ed7e",
   "metadata": {},
   "outputs": [
    {
     "name": "stdout",
     "output_type": "stream",
     "text": [
      "{70000, True, 'Chennai', 38.5, 'Amitava'} 5 2131707759296\n"
     ]
    }
   ],
   "source": [
    "# forming a set directly\n",
    "set1 = {'Amitava', True, 38.5, 70000, \"Chennai\", True, 38.5, 70000, \"Chennai\", True, 38.5,\n",
    "        70000, \"Chennai\", True, 38.5}\n",
    "print (set1, len(set1), id(set1))"
   ]
  },
  {
   "attachments": {
    "SetOperations.png": {
     "image/png": "[encoded data removed]"
    }
   },
   "cell_type": "markdown",
   "id": "7bfba663",
   "metadata": {},
   "source": [
    "![SetOperations.png](attachment:SetOperations.png)"
   ]
  },
  {
   "cell_type": "code",
   "execution_count": 38,
   "id": "e1ae2a35",
   "metadata": {},
   "outputs": [
    {
     "name": "stdout",
     "output_type": "stream",
     "text": [
      "{'cobra', 'python', 'viper'}\n",
      "{'python', 'c++', 'java'}\n",
      "{'viper', 'cobra', 'python', 'c++', 'java'}\n",
      "{'viper', 'cobra', 'python', 'c++', 'java'}\n",
      "{'cobra', 'python', 'viper'}\n",
      "{'python', 'c++', 'java'}\n"
     ]
    }
   ],
   "source": [
    "# set operations: union, intersection, set difference, symmetric difference\n",
    "snakes = {'viper', 'python', 'cobra'}\n",
    "languages = {'java', 'c++', 'python'}\n",
    "print (snakes)\n",
    "print (languages)\n",
    "result = snakes.union(languages)\n",
    "print (result)\n",
    "result = snakes | languages\n",
    "print (result)\n",
    "print (snakes)\n",
    "print (languages)"
   ]
  },
  {
   "cell_type": "code",
   "execution_count": 37,
   "id": "d321a248-eb62-4553-b4e8-b8ea87bb6e88",
   "metadata": {},
   "outputs": [
    {
     "name": "stdout",
     "output_type": "stream",
     "text": [
      "{'cobra', 'python', 'viper'}\n",
      "{'python', 'c++', 'java'}\n",
      "{'python'}\n",
      "{'python'}\n",
      "{'python'}\n",
      "{'python', 'c++', 'java'}\n"
     ]
    }
   ],
   "source": [
    "snakes = {'viper', 'python', 'cobra'}\n",
    "languages = {'java', 'c++', 'python'}\n",
    "print (snakes)\n",
    "print (languages)\n",
    "result = snakes.intersection(languages)\n",
    "print (result)\n",
    "result = snakes & languages\n",
    "print (result)\n",
    "snakes.intersection_update(languages)\n",
    "print (snakes)\n",
    "print (languages)"
   ]
  },
  {
   "cell_type": "code",
   "execution_count": 39,
   "id": "6a292e08",
   "metadata": {},
   "outputs": [
    {
     "name": "stdout",
     "output_type": "stream",
     "text": [
      "{'cobra', 'python', 'viper'}\n",
      "{'python', 'c++', 'java'}\n",
      "{'cobra', 'viper'}\n",
      "{'cobra', 'viper'}\n",
      "{'cobra', 'viper'}\n",
      "{'python', 'c++', 'java'}\n"
     ]
    }
   ],
   "source": [
    "snakes = {'viper', 'python', 'cobra'}\n",
    "languages = {'java', 'c++', 'python'}\n",
    "print (snakes)\n",
    "print (languages)\n",
    "result = snakes.difference(languages)\n",
    "print (result)\n",
    "result = snakes - languages\n",
    "print (result)\n",
    "snakes.difference_update(languages)\n",
    "print (snakes)\n",
    "print (languages)"
   ]
  },
  {
   "cell_type": "code",
   "execution_count": 40,
   "id": "56da719c",
   "metadata": {},
   "outputs": [
    {
     "name": "stdout",
     "output_type": "stream",
     "text": [
      "{'cobra', 'python', 'viper'}\n",
      "{'python', 'c++', 'java'}\n",
      "{'viper', 'c++', 'cobra', 'java'}\n",
      "{'viper', 'c++', 'cobra', 'java'}\n",
      "{'viper', 'c++', 'cobra', 'java'}\n",
      "{'python', 'c++', 'java'}\n"
     ]
    }
   ],
   "source": [
    "snakes = {'viper', 'python', 'cobra'}\n",
    "languages = {'java', 'c++', 'python'}\n",
    "print (snakes)\n",
    "print (languages)\n",
    "result = snakes.symmetric_difference(languages)\n",
    "print (result)\n",
    "result = snakes ^ languages\n",
    "print (result)\n",
    "snakes.symmetric_difference_update(languages)\n",
    "print (snakes)\n",
    "print (languages)"
   ]
  },
  {
   "cell_type": "code",
   "execution_count": 41,
   "id": "b8e542a5",
   "metadata": {},
   "outputs": [
    {
     "name": "stdout",
     "output_type": "stream",
     "text": [
      "False True False\n",
      "False False True\n",
      "True False False\n"
     ]
    }
   ],
   "source": [
    "set1 = {100, 200, 300}\n",
    "set2 = {400, 500, 600, 700, 800}\n",
    "set3 = {600, 700, 800}\n",
    "print (set1.issuperset(set2), set2.issuperset(set3), set3.issuperset(set2))\n",
    "print (set1.issubset(set2), set2.issubset(set3), set3.issubset(set2))\n",
    "print (set1.isdisjoint(set2), set2.isdisjoint(set3), set3.isdisjoint(set2))"
   ]
  },
  {
   "cell_type": "code",
   "execution_count": 42,
   "id": "6cfd5bb3",
   "metadata": {},
   "outputs": [
    {
     "name": "stdout",
     "output_type": "stream",
     "text": [
      "{200, 100, 300} 3\n",
      "{200, 100, 400, 300} 4\n",
      "{100, 200, 300, 400, 700} 5\n"
     ]
    }
   ],
   "source": [
    "# insert operation on a set\n",
    "set1 = {100, 200, 300}\n",
    "print (set1, len(set1))\n",
    "set1.add(400)\n",
    "print (set1, len(set1))\n",
    "set1.add(700)\n",
    "print (set1, len(set1))"
   ]
  },
  {
   "cell_type": "code",
   "execution_count": 44,
   "id": "a833f588",
   "metadata": {
    "scrolled": false
   },
   "outputs": [
    {
     "name": "stdout",
     "output_type": "stream",
     "text": [
      "{400, 700, 100, 500, 200, 600, 300} 7\n",
      "{400, 700, 100, 500, 200, 600} 6\n",
      "{400, 100, 500, 200, 600} 5\n"
     ]
    },
    {
     "ename": "KeyError",
     "evalue": "700",
     "output_type": "error",
     "traceback": [
      "\u001b[1;31m---------------------------------------------------------------------------\u001b[0m",
      "\u001b[1;31mKeyError\u001b[0m                                  Traceback (most recent call last)",
      "Cell \u001b[1;32mIn[44], line 8\u001b[0m\n\u001b[0;32m      6\u001b[0m set1\u001b[38;5;241m.\u001b[39mremove(\u001b[38;5;241m700\u001b[39m)\n\u001b[0;32m      7\u001b[0m \u001b[38;5;28mprint\u001b[39m (set1, \u001b[38;5;28mlen\u001b[39m(set1))\n\u001b[1;32m----> 8\u001b[0m \u001b[43mset1\u001b[49m\u001b[38;5;241;43m.\u001b[39;49m\u001b[43mremove\u001b[49m\u001b[43m(\u001b[49m\u001b[38;5;241;43m700\u001b[39;49m\u001b[43m)\u001b[49m\n\u001b[0;32m      9\u001b[0m \u001b[38;5;28mprint\u001b[39m (set1, \u001b[38;5;28mlen\u001b[39m(set1))\n",
      "\u001b[1;31mKeyError\u001b[0m: 700"
     ]
    }
   ],
   "source": [
    "# delete operation on a set\n",
    "set1 = {100, 200, 300, 600, 700, 500, 400}\n",
    "print (set1, len(set1))\n",
    "set1.remove(300)\n",
    "print (set1, len(set1))\n",
    "set1.remove(700)\n",
    "print (set1, len(set1))\n",
    "set1.remove(700)\n",
    "print (set1, len(set1))"
   ]
  },
  {
   "cell_type": "code",
   "execution_count": 45,
   "id": "473dbb7f",
   "metadata": {},
   "outputs": [
    {
     "name": "stdout",
     "output_type": "stream",
     "text": [
      "{400, 700, 100, 500, 200, 600, 300} 7\n",
      "{400, 700, 100, 500, 200, 600} 6\n",
      "{400, 100, 500, 200, 600} 5\n",
      "{400, 100, 500, 200, 600} 5\n"
     ]
    }
   ],
   "source": [
    "set1 = {100, 200, 300, 600, 700, 500, 400}\n",
    "print (set1, len(set1))\n",
    "set1.discard(300)\n",
    "print (set1, len(set1))\n",
    "set1.discard(700)\n",
    "print (set1, len(set1))\n",
    "set1.discard(700)\n",
    "print (set1, len(set1))"
   ]
  },
  {
   "cell_type": "code",
   "execution_count": 47,
   "id": "d5b8f963",
   "metadata": {},
   "outputs": [
    {
     "name": "stdout",
     "output_type": "stream",
     "text": [
      "{400, 700, 100, 500, 200, 600, 300} 7\n",
      "400\n",
      "{700, 100, 500, 200, 600, 300} 6\n",
      "700\n",
      "{100, 500, 200, 600, 300} 5\n",
      "100\n",
      "{500, 200, 600, 300} 4\n"
     ]
    }
   ],
   "source": [
    "set1 = {100, 200, 300, 600, 700, 500, 400}\n",
    "print (set1, len(set1))\n",
    "print (set1.pop())\n",
    "print (set1, len(set1))\n",
    "print (set1.pop())\n",
    "print (set1, len(set1))\n",
    "print (set1.pop())\n",
    "print (set1, len(set1))"
   ]
  },
  {
   "cell_type": "code",
   "execution_count": 48,
   "id": "6243522a",
   "metadata": {},
   "outputs": [
    {
     "name": "stdout",
     "output_type": "stream",
     "text": [
      "{400, 700, 100, 500, 200, 600, 300} 7\n",
      "set() 0\n"
     ]
    }
   ],
   "source": [
    "set1 = {100, 200, 300, 600, 700, 500, 400}\n",
    "print (set1, len(set1))\n",
    "set1.clear()\n",
    "print (set1, len(set1))"
   ]
  },
  {
   "cell_type": "code",
   "execution_count": 49,
   "id": "404108bf-24a4-4060-9b39-fca53928df85",
   "metadata": {},
   "outputs": [
    {
     "name": "stdout",
     "output_type": "stream",
     "text": [
      "{400, 700, 100, 500, 200, 600, 300} 7\n"
     ]
    },
    {
     "ename": "NameError",
     "evalue": "name 'set1' is not defined",
     "output_type": "error",
     "traceback": [
      "\u001b[1;31m---------------------------------------------------------------------------\u001b[0m",
      "\u001b[1;31mNameError\u001b[0m                                 Traceback (most recent call last)",
      "Cell \u001b[1;32mIn[49], line 4\u001b[0m\n\u001b[0;32m      2\u001b[0m \u001b[38;5;28mprint\u001b[39m (set1, \u001b[38;5;28mlen\u001b[39m(set1))\n\u001b[0;32m      3\u001b[0m \u001b[38;5;28;01mdel\u001b[39;00m set1\n\u001b[1;32m----> 4\u001b[0m \u001b[38;5;28mprint\u001b[39m (\u001b[43mset1\u001b[49m, \u001b[38;5;28mlen\u001b[39m(set1))\n",
      "\u001b[1;31mNameError\u001b[0m: name 'set1' is not defined"
     ]
    }
   ],
   "source": [
    "set1 = {100, 200, 300, 600, 700, 500, 400}\n",
    "print (set1, len(set1))\n",
    "del set1\n",
    "print (set1, len(set1))"
   ]
  },
  {
   "cell_type": "code",
   "execution_count": 50,
   "id": "a4c1caed",
   "metadata": {},
   "outputs": [
    {
     "name": "stdout",
     "output_type": "stream",
     "text": [
      "{400, 700, 100, 500, 200, 600, 300} 7\n",
      "{400, 700, 100, 500, 200, 300} 6\n",
      "{400, 1600, 700, 100, 500, 200, 300} 7\n"
     ]
    }
   ],
   "source": [
    "# update operation on a set\n",
    "set1 = {100, 200, 300, 600, 700, 500, 400}\n",
    "print (set1, len(set1))\n",
    "set1.remove(600)   # deleting the item\n",
    "print (set1, len(set1))\n",
    "set1.add(1600)     # inserting the item\n",
    "print (set1, len(set1))"
   ]
  },
  {
   "cell_type": "code",
   "execution_count": 52,
   "id": "635e2f0d",
   "metadata": {},
   "outputs": [
    {
     "name": "stdout",
     "output_type": "stream",
     "text": [
      "{200, 100, 300} 3\n",
      "{400, 700, 500, 600, 300} 5\n",
      "{100, 200, 300, 400, 500, 600, 700} 7\n",
      "{400, 700, 500, 600, 300} 5\n"
     ]
    }
   ],
   "source": [
    "# concatenating two sets\n",
    "set1 = {100, 200, 300}\n",
    "set2 = {300, 600, 700, 500, 400}\n",
    "print (set1, len(set1))\n",
    "print (set2, len(set2))\n",
    "set1.update(set2)\n",
    "print (set1, len(set1))\n",
    "print (set2, len(set2))"
   ]
  },
  {
   "cell_type": "markdown",
   "id": "089b635d-66d7-49c8-b8e0-03f6c7945938",
   "metadata": {},
   "source": [
    "## **Frozen Set Processing**"
   ]
  },
  {
   "cell_type": "code",
   "execution_count": 54,
   "id": "df391602-d4e2-4b5c-a9f7-765359254e49",
   "metadata": {},
   "outputs": [
    {
     "name": "stdout",
     "output_type": "stream",
     "text": [
      "frozenset({True, 38.5, 70000, 'Chennai', 'Amitava'}) 5 2131720116640\n"
     ]
    }
   ],
   "source": [
    "# forming a frozen set from a list\n",
    "list1 = ['Amitava', True, 38.5, 70000, \"Chennai\", True, 38.5, 70000, \"Chennai\", True, 38.5,\n",
    "         70000, \"Chennai\", True, 38.5]\n",
    "set1 = frozenset(list1)\n",
    "print (set1, len(set1), id(set1))"
   ]
  },
  {
   "cell_type": "code",
   "execution_count": 55,
   "id": "7562e484-40a4-4e6a-9460-c3fa3e4f2b92",
   "metadata": {},
   "outputs": [
    {
     "name": "stdout",
     "output_type": "stream",
     "text": [
      "frozenset({True, 38.5, 70000, 'Chennai', 'Amitava'}) 5 2131720115744\n"
     ]
    }
   ],
   "source": [
    "# forming a frozen set from a tuple\n",
    "tuple1 = ('Amitava', True, 38.5, 70000, \"Chennai\", True, 38.5, 70000, \"Chennai\", True, 38.5,\n",
    "          70000, \"Chennai\", True, 38.5)\n",
    "set1 = frozenset(tuple1)\n",
    "print (set1, len(set1), id(set1))"
   ]
  },
  {
   "cell_type": "code",
   "execution_count": 56,
   "id": "ae513f14-97d3-4f15-9c2d-d0a6b52c9e5e",
   "metadata": {},
   "outputs": [
    {
     "name": "stdout",
     "output_type": "stream",
     "text": [
      "frozenset({70000, True, 'Chennai', 38.5, 'Amitava'}) 5 2131719445344\n"
     ]
    }
   ],
   "source": [
    "# forming a frozen set from a set\n",
    "myset = {'Amitava', True, 38.5, 70000, \"Chennai\", True, 38.5, 70000, \"Chennai\", True, 38.5,\n",
    "         \"Chennai\", True, 38.5}\n",
    "set1 = frozenset(myset)\n",
    "print (set1, len(set1), id(set1))"
   ]
  },
  {
   "cell_type": "code",
   "execution_count": 57,
   "id": "ff3dcbff-2fac-4c12-8915-2d60c156cc08",
   "metadata": {},
   "outputs": [
    {
     "name": "stdout",
     "output_type": "stream",
     "text": [
      "frozenset({'cobra', 'python', 'viper'})\n",
      "frozenset({'python', 'c++', 'java'})\n",
      "frozenset({'viper', 'cobra', 'python', 'c++', 'java'})\n",
      "frozenset({'viper', 'cobra', 'python', 'c++', 'java'})\n",
      "frozenset({'cobra', 'python', 'viper'})\n",
      "frozenset({'python', 'c++', 'java'})\n"
     ]
    }
   ],
   "source": [
    "# frozen-set operations: union, intersection, difference, symmetric difference\n",
    "snakes = frozenset({'viper', 'python', 'cobra'})\n",
    "languages = frozenset({'java', 'c++', 'python'})\n",
    "print (snakes)\n",
    "print (languages)\n",
    "result = snakes.union(languages)\n",
    "print (result)\n",
    "result = snakes | languages\n",
    "print (result)\n",
    "print (snakes)\n",
    "print (languages)"
   ]
  },
  {
   "cell_type": "code",
   "execution_count": 58,
   "id": "931c4254-cda4-49e4-b4eb-2bf9f1a3091e",
   "metadata": {},
   "outputs": [
    {
     "name": "stdout",
     "output_type": "stream",
     "text": [
      "frozenset({'cobra', 'python', 'viper'})\n",
      "frozenset({'python', 'c++', 'java'})\n",
      "frozenset({'python'})\n",
      "frozenset({'python'})\n",
      "frozenset({'cobra', 'python', 'viper'})\n",
      "frozenset({'python', 'c++', 'java'})\n"
     ]
    }
   ],
   "source": [
    "snakes = frozenset({'viper', 'python', 'cobra'})\n",
    "languages = frozenset({'java', 'c++', 'python'})\n",
    "print (snakes)\n",
    "print (languages)\n",
    "result = snakes.intersection(languages)\n",
    "print (result)\n",
    "result = snakes & languages\n",
    "print (result)\n",
    "print (snakes)\n",
    "print (languages)"
   ]
  },
  {
   "cell_type": "code",
   "execution_count": 60,
   "id": "3873e6b6-2d40-4fc0-a021-b5581c27d249",
   "metadata": {},
   "outputs": [
    {
     "name": "stdout",
     "output_type": "stream",
     "text": [
      "frozenset({'cobra', 'python', 'viper'})\n",
      "frozenset({'python', 'c++', 'java'})\n",
      "frozenset({'cobra', 'viper'})\n",
      "frozenset({'cobra', 'viper'})\n",
      "frozenset({'cobra', 'python', 'viper'})\n",
      "frozenset({'python', 'c++', 'java'})\n"
     ]
    }
   ],
   "source": [
    "snakes = frozenset({'viper', 'python', 'cobra'})\n",
    "languages = frozenset({'java', 'c++', 'python'})\n",
    "print (snakes)\n",
    "print (languages)\n",
    "result = snakes.difference(languages)\n",
    "print (result)\n",
    "result = snakes - languages\n",
    "print (result)\n",
    "print (snakes)\n",
    "print (languages)"
   ]
  },
  {
   "cell_type": "code",
   "execution_count": 61,
   "id": "a6f3d68e-bd54-4511-82d3-fcf3021abd7b",
   "metadata": {},
   "outputs": [
    {
     "name": "stdout",
     "output_type": "stream",
     "text": [
      "frozenset({'cobra', 'python', 'viper'})\n",
      "frozenset({'python', 'c++', 'java'})\n",
      "frozenset({'viper', 'c++', 'cobra', 'java'})\n",
      "frozenset({'viper', 'c++', 'cobra', 'java'})\n",
      "frozenset({'cobra', 'python', 'viper'})\n",
      "frozenset({'python', 'c++', 'java'})\n"
     ]
    }
   ],
   "source": [
    "snakes = frozenset({'viper', 'python', 'cobra'})\n",
    "languages = frozenset({'java', 'c++', 'python'})\n",
    "print (snakes)\n",
    "print (languages)\n",
    "result = snakes.symmetric_difference(languages)\n",
    "print (result)\n",
    "result = snakes ^ languages\n",
    "print (result)\n",
    "print (snakes)\n",
    "print (languages)"
   ]
  },
  {
   "cell_type": "code",
   "execution_count": 62,
   "id": "0238eed4",
   "metadata": {},
   "outputs": [
    {
     "name": "stdout",
     "output_type": "stream",
     "text": [
      "False True False\n",
      "False False True\n",
      "True False False\n"
     ]
    }
   ],
   "source": [
    "set1 = frozenset({100, 200, 300})\n",
    "set2 = frozenset({400, 500, 600, 700, 800})\n",
    "set3 = frozenset({600, 700, 800})\n",
    "print (set1.issuperset(set2), set2.issuperset(set3), set3.issuperset(set2))\n",
    "print (set1.issubset(set2), set2.issubset(set3), set3.issubset(set2))\n",
    "print (set1.isdisjoint(set2), set2.isdisjoint(set3), set3.isdisjoint(set2))"
   ]
  }
 ],
 "metadata": {
  "kernelspec": {
   "display_name": "Python 3 (ipykernel)",
   "language": "python",
   "name": "python3"
  },
  "language_info": {
   "codemirror_mode": {
    "name": "ipython",
    "version": 3
   },
   "file_extension": ".py",
   "mimetype": "text/x-python",
   "name": "python",
   "nbconvert_exporter": "python",
   "pygments_lexer": "ipython3",
   "version": "3.10.9"
  }
 },
 "nbformat": 4,
 "nbformat_minor": 5
}
