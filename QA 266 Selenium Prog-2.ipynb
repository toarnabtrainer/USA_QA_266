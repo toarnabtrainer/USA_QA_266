{
 "cells": [
  {
   "cell_type": "markdown",
   "id": "040ae186-23f4-46f0-83f4-6dd4549987ed",
   "metadata": {},
   "source": [
    "## **Selenium Code Example - 2/3**"
   ]
  },
  {
   "cell_type": "markdown",
   "id": "8b7bd266-a40c-4615-a562-f3b85bba585f",
   "metadata": {},
   "source": [
    "## **Selenium control options to write text, button press, select menu and others**"
   ]
  },
  {
   "cell_type": "code",
   "execution_count": 41,
   "id": "16f55440-b837-49aa-ac13-467d42ca3d47",
   "metadata": {},
   "outputs": [],
   "source": [
    "# importing required modules\n",
    "from selenium import webdriver\n",
    "from selenium.webdriver.chrome.service import Service"
   ]
  },
  {
   "cell_type": "code",
   "execution_count": 42,
   "id": "c8062469-b103-4a28-be1a-b0dc438663b1",
   "metadata": {},
   "outputs": [
    {
     "name": "stdout",
     "output_type": "stream",
     "text": [
      "4.18.1\n"
     ]
    }
   ],
   "source": [
    "# also checking the current version of selenium\n",
    "print (webdriver.__version__)"
   ]
  },
  {
   "cell_type": "code",
   "execution_count": 43,
   "id": "eb95661a-8599-45e9-bb72-36346ceb9c7b",
   "metadata": {},
   "outputs": [],
   "source": [
    "# checking the presence of the chrome driver in the current folder \n",
    "# and if present the using it\n",
    "service = Service(executable_path = './chromedriver.exe')\n",
    "options = webdriver.ChromeOptions()\n",
    "driver = webdriver.Chrome(service = service, options = options)"
   ]
  },
  {
   "cell_type": "code",
   "execution_count": 44,
   "id": "1ecb3499-bc52-4886-a48e-27b5b3afd29f",
   "metadata": {},
   "outputs": [],
   "source": [
    "# open the web portal \"https://www.calculatorsoup.com/\" to do the nCr calculation\n",
    "# https://www.calculatorsoup.com/ => Discrete Math => Combinations Calculator (Get the page)\n",
    "# So the final URL has become \"https://www.calculatorsoup.com/calculators/discretemathematics/combinations.php\"\n",
    "URL = \"https://www.calculatorsoup.com/calculators/discretemathematics/combinations.php\"\n",
    "driver.get(URL)"
   ]
  },
  {
   "cell_type": "code",
   "execution_count": 53,
   "id": "c46cbab9-3114-4aab-9c42-8a150d6fad4b",
   "metadata": {},
   "outputs": [],
   "source": [
    "n_input = driver.find_element(\"id\", \"n\")\n",
    "n_input.clear()\n",
    "num1 = 10\n",
    "n_input.send_keys(str(num1))"
   ]
  },
  {
   "cell_type": "code",
   "execution_count": 54,
   "id": "135e1650-ef36-4ac0-8398-7d1a357a317b",
   "metadata": {},
   "outputs": [],
   "source": [
    "# r_input = driver.find_element(\"id\", \"r\")\n",
    "# r_input.clear()\n",
    "# num2 = 8\n",
    "# r_input.send_keys(num2)"
   ]
  },
  {
   "cell_type": "code",
   "execution_count": 55,
   "id": "4f7e3f10-afab-45e2-a431-b73507e05044",
   "metadata": {},
   "outputs": [],
   "source": [
    "# to press keys, we can use the following library\n",
    "from selenium.webdriver.common.keys import Keys"
   ]
  },
  {
   "cell_type": "code",
   "execution_count": 56,
   "id": "33b7cf2f-3315-4f88-a03d-86cd0e243964",
   "metadata": {},
   "outputs": [],
   "source": [
    "# press TAB to go to the next input area\n",
    "n_input.send_keys(Keys.TAB)"
   ]
  },
  {
   "cell_type": "code",
   "execution_count": 57,
   "id": "d6cab117-f33a-4c83-a934-4f66f6cd2ceb",
   "metadata": {},
   "outputs": [],
   "source": [
    "# select currently selected input area\n",
    "r_input = driver.switch_to.active_element"
   ]
  },
  {
   "cell_type": "code",
   "execution_count": 58,
   "id": "07c494d4-0a8a-48df-af8b-8fd6170ec421",
   "metadata": {},
   "outputs": [],
   "source": [
    "# put the r value inside the text box\n",
    "num2 = 5\n",
    "r_input.clear()\n",
    "r_input.send_keys(str(num2))"
   ]
  },
  {
   "cell_type": "code",
   "execution_count": 59,
   "id": "bda19dba-f500-4c89-a960-de093cd901ee",
   "metadata": {},
   "outputs": [],
   "source": [
    "# now go to the calculate button and click on it\n",
    "calculate_button = driver.find_element(\"id\", \"calculateButton\")\n",
    "calculate_button.click()"
   ]
  },
  {
   "cell_type": "code",
   "execution_count": 60,
   "id": "f4d0b436-a917-4a00-a98c-5f26d5f65b22",
   "metadata": {},
   "outputs": [
    {
     "name": "stdout",
     "output_type": "stream",
     "text": [
      "252 <class 'int'>\n",
      "252\n"
     ]
    }
   ],
   "source": [
    "# now reading the answer from the result area\n",
    "result_area = driver.find_element(\"id\", \"answer\")\n",
    "result = result_area.text\n",
    "# print (\"So the result is:\\n\", result)\n",
    "result = int(result.split(\"\\n\")[0].split()[1])\n",
    "print (result, type(result))\n",
    "print (result)"
   ]
  },
  {
   "cell_type": "code",
   "execution_count": 61,
   "id": "789b258c-eb5f-43a5-8308-b705fb5546ce",
   "metadata": {},
   "outputs": [
    {
     "name": "stdout",
     "output_type": "stream",
     "text": [
      "252\n"
     ]
    }
   ],
   "source": [
    "import math\n",
    "actual_result = math.comb(num1, num2)\n",
    "print (actual_result)"
   ]
  },
  {
   "cell_type": "code",
   "execution_count": 62,
   "id": "7d91c58f-8c83-403f-9709-b5b31d8b67f7",
   "metadata": {},
   "outputs": [
    {
     "name": "stdout",
     "output_type": "stream",
     "text": [
      "Test Case has been PASSED...\n"
     ]
    }
   ],
   "source": [
    "if (result == actual_result):\n",
    "    print (\"Test Case has been PASSED...\")\n",
    "else:\n",
    "    print (\"Test Case has been FAILED...\")"
   ]
  },
  {
   "cell_type": "code",
   "execution_count": null,
   "id": "d9223f2b-b54f-40bf-b41f-ce6d048014b2",
   "metadata": {},
   "outputs": [],
   "source": []
  }
 ],
 "metadata": {
  "kernelspec": {
   "display_name": "Python 3 (ipykernel)",
   "language": "python",
   "name": "python3"
  },
  "language_info": {
   "codemirror_mode": {
    "name": "ipython",
    "version": 3
   },
   "file_extension": ".py",
   "mimetype": "text/x-python",
   "name": "python",
   "nbconvert_exporter": "python",
   "pygments_lexer": "ipython3",
   "version": "3.11.7"
  }
 },
 "nbformat": 4,
 "nbformat_minor": 5
}
