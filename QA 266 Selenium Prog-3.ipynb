{
 "cells": [
  {
   "cell_type": "markdown",
   "id": "48c221a3-f5bb-4c56-910a-4beaec2fc69d",
   "metadata": {},
   "source": [
    "## **Selenium Code Example - 3/3**"
   ]
  },
  {
   "cell_type": "markdown",
   "id": "10c46601-dfc7-4078-ae1c-84fd2d82ee94",
   "metadata": {},
   "source": [
    "## **Selenium control options to write text, button press, dropdown list, checkbox and others**"
   ]
  },
  {
   "cell_type": "code",
   "execution_count": 1,
   "id": "f31b450f-9432-4da3-8563-1122336d306e",
   "metadata": {},
   "outputs": [],
   "source": [
    "# importing all the required modules for this project\n",
    "from selenium import webdriver\n",
    "from selenium.webdriver.chrome.service import Service"
   ]
  },
  {
   "cell_type": "code",
   "execution_count": 2,
   "id": "2b556b1a-c8bc-4382-b58f-e0502b4ab144",
   "metadata": {},
   "outputs": [
    {
     "name": "stdout",
     "output_type": "stream",
     "text": [
      "4.18.1\n"
     ]
    }
   ],
   "source": [
    "# also checking the current version of selenium\n",
    "print (webdriver.__version__)"
   ]
  },
  {
   "cell_type": "code",
   "execution_count": 3,
   "id": "046e2ece-f651-41b8-a177-d69863411d24",
   "metadata": {},
   "outputs": [],
   "source": [
    "# at first check whether the chrome driver is present in the current\n",
    "# folder or not. as it is present so we can use it without any path specifications\n",
    "# otherwise we shall have to provide relative/absolute path to access it\n",
    "service = Service(executable_path = \"./chromedriver.exe\")\n",
    "options = webdriver.ChromeOptions()\n",
    "driver = webdriver.Chrome(service = service, options = options)"
   ]
  },
  {
   "cell_type": "code",
   "execution_count": 4,
   "id": "38f936aa-3143-4c6f-82cd-a231875fb09c",
   "metadata": {},
   "outputs": [],
   "source": [
    "# now we shall access one web-portal to perform currency conversion\n",
    "# visit the site https://www.calculator.net/ -> Click on \"All Calculators\" -> Click on \"Currency Calculator\"\n",
    "driver.get(\"https://www.calculator.net/currency-calculator.html\")"
   ]
  },
  {
   "cell_type": "code",
   "execution_count": 5,
   "id": "87d438e9-c84a-4798-855d-03f64397c08d",
   "metadata": {},
   "outputs": [],
   "source": [
    "# import select and the check box from selenium library to get HTML select tags\n",
    "from selenium.webdriver.support.ui import Select"
   ]
  },
  {
   "cell_type": "code",
   "execution_count": 6,
   "id": "7e87d4a7-e8fc-4aa7-b3e9-293775cf84e9",
   "metadata": {},
   "outputs": [],
   "source": [
    "# now select the 'FROM Currency' as \"INR\" and 'To Currency' as \"USD\" from the drop down menu\n",
    "from_currency = Select(driver.find_element(\"id\", \"efrom\"))\n",
    "from_currency.select_by_visible_text(\"INR: Indian Rupee\")  # text visible to the user"
   ]
  },
  {
   "cell_type": "code",
   "execution_count": 7,
   "id": "c9e3969d-68d2-422d-b643-0bd19e2d60fd",
   "metadata": {},
   "outputs": [],
   "source": [
    "to_currency = Select(driver.find_element(\"id\", \"eto\"))\n",
    "to_currency.select_by_value(\"USD\")   # this value is given inside the HTML text"
   ]
  },
  {
   "cell_type": "code",
   "execution_count": 8,
   "id": "f0c6c727-199c-478b-8b6b-0a03a6c87609",
   "metadata": {},
   "outputs": [],
   "source": [
    "# put the amount as 500\n",
    "amount_textbox = driver.find_element(\"id\", \"eamount\")\n",
    "# clear the text field at first and put the value there\n",
    "amount_textbox.clear()\n",
    "amount_textbox.send_keys('500')"
   ]
  },
  {
   "cell_type": "code",
   "execution_count": 11,
   "id": "13015ed7-cd0c-4770-b9a4-97ca97dc6529",
   "metadata": {},
   "outputs": [],
   "source": [
    "# now clicking on the calculate button\n",
    "calculate_button = driver.find_element(\"xpath\", '//*[@id = \"standard\"]/tbody/tr[5]/td[2]/input[2]')\n",
    "calculate_button.click()"
   ]
  },
  {
   "cell_type": "code",
   "execution_count": 15,
   "id": "bc90f7f8-a0e5-4421-811b-411c266c7641",
   "metadata": {},
   "outputs": [],
   "source": [
    "checkbox = driver.find_element('xpath', '//*[@id=\"ccmajorccsettingbox\"]')\n",
    "# if this is already checked the uncheck it by the help of java script code\n",
    "if (checkbox.is_selected()):\n",
    "    driver.execute_script(\"arguments[0].click()\", checkbox)"
   ]
  },
  {
   "cell_type": "code",
   "execution_count": 16,
   "id": "0f9d9cbc-0d65-463d-8011-3991cb4a71d0",
   "metadata": {},
   "outputs": [],
   "source": [
    "# now select the 'FROM Currency' as \"ZWL\" and 'To Currency' as \"USD\" from the drop down menu\n",
    "from_currency = Select(driver.find_element(\"id\", \"efrom\"))\n",
    "from_currency.select_by_value(\"ZWL\")   # this value is given inside the HTML text"
   ]
  },
  {
   "cell_type": "code",
   "execution_count": 17,
   "id": "0cdc156c-4964-44ea-9548-8ab74e8f3c3a",
   "metadata": {},
   "outputs": [],
   "source": [
    "to_currency = Select(driver.find_element(\"id\", \"eto\"))\n",
    "to_currency.select_by_value(\"INR\")   # this value is given inside the HTML text"
   ]
  },
  {
   "cell_type": "code",
   "execution_count": 18,
   "id": "d1e5aa1b-998f-473c-bd2c-4f0a9d2bae8a",
   "metadata": {},
   "outputs": [],
   "source": [
    "# put the amount as 1000\n",
    "amount_textbox = driver.find_element(\"id\", \"eamount\")\n",
    "# clear the text field at first and put the value there\n",
    "amount_textbox.clear()\n",
    "amount_textbox.send_keys('1000')"
   ]
  },
  {
   "cell_type": "code",
   "execution_count": 19,
   "id": "a99e998a-1c51-481a-b359-e3cdad1b61cc",
   "metadata": {},
   "outputs": [],
   "source": [
    "# now clicking on the calculate button\n",
    "calculate_button = driver.find_element(\"xpath\", '//*[@id = \"standard\"]/tbody/tr[5]/td[2]/input[2]')\n",
    "calculate_button.click()"
   ]
  },
  {
   "cell_type": "code",
   "execution_count": null,
   "id": "374dcc5d-378b-469a-b318-7d978b55ca0a",
   "metadata": {},
   "outputs": [],
   "source": [
    "driver.quit()"
   ]
  },
  {
   "cell_type": "code",
   "execution_count": null,
   "id": "e622bf8f-d3a5-4380-93eb-d7c79ae00418",
   "metadata": {},
   "outputs": [],
   "source": []
  }
 ],
 "metadata": {
  "kernelspec": {
   "display_name": "Python 3 (ipykernel)",
   "language": "python",
   "name": "python3"
  },
  "language_info": {
   "codemirror_mode": {
    "name": "ipython",
    "version": 3
   },
   "file_extension": ".py",
   "mimetype": "text/x-python",
   "name": "python",
   "nbconvert_exporter": "python",
   "pygments_lexer": "ipython3",
   "version": "3.11.7"
  }
 },
 "nbformat": 4,
 "nbformat_minor": 5
}
